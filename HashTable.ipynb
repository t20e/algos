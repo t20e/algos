{
 "cells": [
  {
   "cell_type": "markdown",
   "metadata": {},
   "source": [
    "# HashTable Algorithm\n",
    "\n",
    "A Hash table is defined as a data structure used to insert, look up, and remove key-value pairs quickly. It operates on the hashing concept, where each key is translated by a hash function into a distinct index in an array. The index functions as a storage location for the matching value. In simple words, it maps the keys with the value.\n",
    "\n",
    "A HashTable is sometimes used interchangeably with term 'dictionary'\n",
    "\n",
    "- Dictionary: generic way to map keys to values \n",
    "- HashTable: implementation of a dictionary using a hash function\n",
    "\n",
    "Average case search time: O(1)\n",
    "Worst case search time: O(n)\n",
    "\n",
    "<img src=\"./imgs/hashtable.png\" style=\"width:250px; margin: 0 auto\">\n",
    "\n",
    "\n",
    "Rules for choosing good hash function:\n",
    "1. The hash function should be simple to compute.\n",
    "\n",
    "2. Number of collisions should be less while placing the record in the hash table.Ideally no collision should occur. Such a function is called perfect hash function.\n",
    "\n",
    "3. Hash function should produce such keys which will get distributed uniformly over an array.\n",
    "\n",
    "4. The hash function should depend on every bit of the key. Thus the hash function that simply extracts the portion of a key is not suitable."
   ]
  },
  {
   "cell_type": "code",
   "execution_count": 1,
   "metadata": {},
   "outputs": [],
   "source": [
    "class HashTable:\n",
    "    def __init__(self, size=10):\n",
    "        self.size = size\n",
    "        self.table = [[] for _ in range(size)]\n",
    "\n",
    "    def _hash_function(self, key):\n",
    "        return hash(key) % self.size\n",
    "\n",
    "    def insert(self, key, value):\n",
    "        hash_index = self._hash_function(key)\n",
    "        for pair in self.table[hash_index]:\n",
    "            if pair[0] == key:\n",
    "                pair[1] = value\n",
    "                return\n",
    "        self.table[hash_index].append([key, value])\n",
    "\n",
    "    def get(self, key):\n",
    "        hash_index = self._hash_function(key)\n",
    "        for pair in self.table[hash_index]:\n",
    "            if pair[0] == key:\n",
    "                return pair[1]\n",
    "        return None\n",
    "\n",
    "    def delete(self, key):\n",
    "        hash_index = self._hash_function(key)\n",
    "        for pair in self.table[hash_index]:\n",
    "            if pair[0] == key:\n",
    "                self.table[hash_index].remove(pair)\n",
    "                return\n",
    "        return None\n"
   ]
  },
  {
   "cell_type": "code",
   "execution_count": 3,
   "metadata": {},
   "outputs": [
    {
     "name": "stdout",
     "output_type": "stream",
     "text": [
      "value1\n",
      "value2\n",
      "None\n"
     ]
    }
   ],
   "source": [
    "# Example usage:\n",
    "hash_table = HashTable()\n",
    "hash_table.insert(\"key1\", \"value1\")\n",
    "hash_table.insert(\"key2\", \"value2\")\n",
    "\n",
    "print(hash_table.get(\"key1\"))  # Output: value1\n",
    "print(hash_table.get(\"key2\"))  # Output: value2\n",
    "\n",
    "hash_table.delete(\"key1\")\n",
    "print(hash_table.get(\"key1\"))  # Output: None"
   ]
  },
  {
   "cell_type": "code",
   "execution_count": null,
   "metadata": {},
   "outputs": [],
   "source": []
  }
 ],
 "metadata": {
  "kernelspec": {
   "display_name": "AI_env",
   "language": "python",
   "name": "python3"
  },
  "language_info": {
   "codemirror_mode": {
    "name": "ipython",
    "version": 3
   },
   "file_extension": ".py",
   "mimetype": "text/x-python",
   "name": "python",
   "nbconvert_exporter": "python",
   "pygments_lexer": "ipython3",
   "version": "3.10.13"
  }
 },
 "nbformat": 4,
 "nbformat_minor": 2
}
