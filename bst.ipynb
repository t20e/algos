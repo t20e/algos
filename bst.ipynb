{
 "cells": [
  {
   "cell_type": "markdown",
   "metadata": {},
   "source": [
    "## Binary Search Tree\n",
    "\n",
    "![alt text](./imgs/binary-tre.png)\n",
    "\n",
    "A Binary Search Tree is a data structure used in computer science for organizing and storing data in a sorted manner.\n",
    "\n",
    "Structure:  \n",
    " \n",
    "1. Each node in a Binary Search Tree has at most two children, a left child and a right child, with the left child containing values less than the parent node and the right child containing values greater than the parent node. \n",
    "2. This hierarchical structure allows for efficient searching, insertion, and deletion operations on the data stored in the tree."
   ]
  },
  {
   "cell_type": "code",
   "execution_count": 70,
   "metadata": {},
   "outputs": [],
   "source": [
    "import random\n",
    "\n",
    "class Node:\n",
    "    def __init__(self, value):\n",
    "        self.value = value\n",
    "        self.left = None\n",
    "        self.right = None"
   ]
  },
  {
   "cell_type": "code",
   "execution_count": 71,
   "metadata": {},
   "outputs": [],
   "source": [
    "def create_tree(numNodes=10):\n",
    "    # a = Node(20)  # |                       20\n",
    "    # b = Node(14)  # |                    14       23\n",
    "    # c = Node(23)  # |                 7  17         30\n",
    "    # d = Node(7)   \n",
    "    # e = Node(17)   \n",
    "    # f = Node(30)   \n",
    "    # a.left = b  \n",
    "    # a.right = c   \n",
    "    # b.left = d  \n",
    "    # b.right = e\n",
    "    # c.right = f\n",
    "    # return a\n",
    "    random_numbers = [random.randint(1, 100) for _ in range(numNodes)]\n",
    "    # print(random_numbers)\n",
    "    newNodes = [Node(i) for i in random_numbers]\n",
    "    root = newNodes.pop()\n",
    "    print(\"Root node:\", root.value)\n",
    "    # print([i.value for i in newNodes])\n",
    "    while len(newNodes) > 0:\n",
    "        add_to_tree(root, newNodes.pop())\n",
    "    return root\n",
    "\n",
    "def add_to_tree(root, newNode):\n",
    "    if newNode.value < root.value:\n",
    "        if root.left == None:\n",
    "            root.left = newNode\n",
    "        else:\n",
    "            add_to_tree(root.left, newNode)\n",
    "    elif newNode.value > root.value:\n",
    "        if root.right == None:\n",
    "            root.right = newNode\n",
    "        else:\n",
    "            add_to_tree(root.right, newNode)\n",
    "\n",
    "# create_tree(numNodes=6)"
   ]
  },
  {
   "cell_type": "markdown",
   "metadata": {},
   "source": [
    "#### Print Tree For Demonstration"
   ]
  },
  {
   "cell_type": "code",
   "execution_count": 72,
   "metadata": {},
   "outputs": [
    {
     "name": "stdout",
     "output_type": "stream",
     "text": [
      "Root node: 18\n",
      "\n",
      "\n",
      "                    r_n, 39=> 90\n",
      "\n",
      "\n",
      "                                        r_n, 53=> 69\n",
      "\n",
      "\n",
      "                              l_n, 90=> 53\n",
      "\n",
      "\n",
      "          r_n, 18=> 39\n",
      "\n",
      "\n",
      "rootNode 18\n"
     ]
    }
   ],
   "source": [
    "def printTree(root, space = 0, printLine=\"rootNode\",):\n",
    "    if (root == None):\n",
    "        return\n",
    "    # Increase distance between levels\n",
    "    space += COUNT[0]\n",
    "    # Process right child first\n",
    "    printTree(root.right, space, printLine=f\"r_n, {root.value}=>\")\n",
    "    # Print current node after space\n",
    "    # these print are the line separators\n",
    "    print()\n",
    "    print()\n",
    "    for i in range(COUNT[0], space):\n",
    "        print(end=\" \")\n",
    "    print(printLine, root.value)\n",
    "    # Process left child\n",
    "    printTree(root.left, space, printLine=f\"l_n, {root.value}=>\")\n",
    "\n",
    "Node.printTree = printTree\n",
    "COUNT = [10]\n",
    "Node.printTree(create_tree(numNodes=6), 0)"
   ]
  },
  {
   "cell_type": "markdown",
   "metadata": {},
   "source": [
    "### Verify Tree"
   ]
  },
  {
   "cell_type": "code",
   "execution_count": 73,
   "metadata": {},
   "outputs": [
    {
     "name": "stdout",
     "output_type": "stream",
     "text": [
      "Root node: 5\n"
     ]
    },
    {
     "data": {
      "text/plain": [
       "'Tree is Sorted'"
      ]
     },
     "execution_count": 73,
     "metadata": {},
     "output_type": "execute_result"
    }
   ],
   "source": [
    "def verify(root):\n",
    "    stack = [root]  # a stack LIFO or last-in first-out order\n",
    "    while len(stack) > 0:\n",
    "        current = stack.pop()\n",
    "        # add the nodes children to the stack also important if u want a different order of how\n",
    "        # it goes through the children u can append the right or left child first to the stack\n",
    "        if current.left != None:\n",
    "            if current.left.value > current.value:\n",
    "                return f\"Tree is not sorted, @Value: {current.value}.\"\n",
    "            stack.append(current.left)\n",
    "        if current.right != None:\n",
    "            if current.right.value < current.value:\n",
    "                return f\"Tree is not sorted, @Value: {current.value}.\"\n",
    "            stack.append(current.right)\n",
    "    return \"Tree is Sorted\"\n",
    "\n",
    "Node.verify = verify\n",
    "Node.verify(create_tree(numNodes=10))"
   ]
  },
  {
   "cell_type": "markdown",
   "metadata": {},
   "source": [
    "#### Default Tree\n",
    "\n",
    "For some problems we will use a default tree so we can track different functions with the same tree."
   ]
  },
  {
   "cell_type": "code",
   "execution_count": 164,
   "metadata": {},
   "outputs": [
    {
     "name": "stdout",
     "output_type": "stream",
     "text": [
      "Root node: 69\n",
      "\n",
      "\n",
      "          r_n, 69=> 97\n",
      "\n",
      "\n",
      "                    l_n, 97=> 72\n",
      "\n",
      "\n",
      "rootNode 69\n",
      "\n",
      "\n",
      "                    r_n, 53=> 65\n",
      "\n",
      "\n",
      "          l_n, 69=> 53\n",
      "\n",
      "\n",
      "                              r_n, 46=> 50\n",
      "\n",
      "\n",
      "                    l_n, 53=> 46\n",
      "\n",
      "\n",
      "                                        r_n, 30=> 41\n",
      "\n",
      "\n",
      "                              l_n, 46=> 30\n",
      "\n",
      "\n",
      "                                        l_n, 30=> 4\n"
     ]
    }
   ],
   "source": [
    "tree = create_tree()\n",
    "printTree(tree)"
   ]
  },
  {
   "cell_type": "markdown",
   "metadata": {},
   "source": [
    "#### DEPTH FIRST SEARCH (DFS)\n",
    "Go through all the nodes from root to left most children node then traverse right thru tree\n",
    "\n",
    "Time and space complexity:  \n",
    "\n",
    "n = number of nodes  \n",
    "time = o(n)  \n",
    "space = o(n)  \n",
    "\n",
    "We will use a `Stack LIFO or last-in first-out order`"
   ]
  },
  {
   "cell_type": "code",
   "execution_count": 75,
   "metadata": {},
   "outputs": [
    {
     "name": "stdout",
     "output_type": "stream",
     "text": [
      "Root node: 9\n"
     ]
    },
    {
     "data": {
      "text/plain": [
       "[9, 38, 69, 68, 40, 35, 21, 13, 4]"
      ]
     },
     "execution_count": 75,
     "metadata": {},
     "output_type": "execute_result"
    }
   ],
   "source": [
    "def depthFirstValuesInteractive(root):\n",
    "    if root is None:\n",
    "        return []\n",
    "    results = []\n",
    "    stack = [root]\n",
    "    while len(stack) > 0:\n",
    "        current = stack.pop()\n",
    "        results.append(current.value)\n",
    "        # add the nodes children to the stack also important if u want a different order of how\n",
    "        # it goes through the children u can append the right or left child first to the stack\n",
    "        if current.left != None:\n",
    "            stack.append(current.left)\n",
    "        if current.right != None:\n",
    "            stack.append(current.right)\n",
    "    return results\n",
    "\n",
    "Node.depthFirstValuesInteractive = depthFirstValuesInteractive\n",
    "Node.depthFirstValuesInteractive(create_tree())"
   ]
  },
  {
   "cell_type": "markdown",
   "metadata": {},
   "source": [
    "##### recursive solution"
   ]
  },
  {
   "cell_type": "code",
   "execution_count": 76,
   "metadata": {},
   "outputs": [
    {
     "name": "stdout",
     "output_type": "stream",
     "text": [
      "Root node: 88\n",
      "[88, 96, 99, 33, 35, 63, 25, 24, 18]\n"
     ]
    }
   ],
   "source": [
    "def depthFirstValuesRecursive(root):\n",
    "    if root is None:\n",
    "        return []\n",
    "    # recursively calls all from the right tree\n",
    "    leftValues = Node.depthFirstValuesRecursive(root.right) \n",
    "    rightValues = Node.depthFirstValuesRecursive(root.left)\n",
    "    # print(rightValues, 'left \\n', leftValues)\n",
    "    return [root.value, *leftValues, *rightValues]\n",
    "\n",
    "Node.depthFirstValuesRecursive = depthFirstValuesRecursive\n",
    "print(Node.depthFirstValuesRecursive(create_tree()))"
   ]
  },
  {
   "cell_type": "markdown",
   "metadata": {},
   "source": [
    "#### Breadth First Values (Dfs)\n",
    "\n",
    "Different from depth first search, We go layer by layer and see both parents children before going into each child of each children.\n",
    "\n",
    "\n",
    "i.e:\n",
    "\n",
    "|||||||\n",
    "|--|---|--|-|-|-|\n",
    "|||a|||||\n",
    "||b|||c|||\n",
    "|d|||f||h||\n",
    "\n",
    "Breadth First Values => [a b c d f h]   \n",
    "vs depth first search => [a b d f c h]    \n",
    "\n",
    "Interactive solution Time and space complexity:  \n",
    "* n = number of nodes  \n",
    "* time = o(n)  \n",
    "* space = o(n)  \n",
    "\n",
    "We will use `Queue: first-in-first-out (FIFO)` for breathFirst."
   ]
  },
  {
   "cell_type": "code",
   "execution_count": 77,
   "metadata": {},
   "outputs": [
    {
     "name": "stdout",
     "output_type": "stream",
     "text": [
      "Root node: 34\n"
     ]
    },
    {
     "data": {
      "text/plain": [
       "[34, 12, 48, 11, 22, 52, 1, 30, 94, 27]"
      ]
     },
     "execution_count": 77,
     "metadata": {},
     "output_type": "execute_result"
    }
   ],
   "source": [
    "def BreadthFirstValues(root):\n",
    "    if root is None:\n",
    "        return []\n",
    "    queue = [root] \n",
    "    result = []\n",
    "    while len(queue) > 0:\n",
    "        current = queue.pop(0)\n",
    "        result.append(current.value)\n",
    "        if current.left != None:\n",
    "            queue.append(current.left)\n",
    "        if current.right != None:\n",
    "            queue.append(current.right)\n",
    "    return result\n",
    "\n",
    "Node.breathFirstValues = BreadthFirstValues\n",
    "Node.breathFirstValues(create_tree())"
   ]
  },
  {
   "cell_type": "markdown",
   "metadata": {},
   "source": [
    "#### Find If A Value Is In A Tree\n",
    "\n",
    "Time and space complexity:\n",
    "* n = number of nodes\n",
    "* time = O(log N)\n",
    "* space = O(log N)\n",
    "\n",
    "The time complexity is O(log N) ie. example target value is 17, the root node is 18, since 17 is less we will only look at the left nodes from root. This means when we iterate thru the tree we see less and less of all the nodes.\n",
    "\n"
   ]
  },
  {
   "cell_type": "markdown",
   "metadata": {},
   "source": [
    "Breadth First Search Solution"
   ]
  },
  {
   "cell_type": "code",
   "execution_count": 78,
   "metadata": {},
   "outputs": [
    {
     "name": "stdout",
     "output_type": "stream",
     "text": [
      "False\n"
     ]
    }
   ],
   "source": [
    "def treeIncludesBreadthSearch(root, target):\n",
    "    if root is None:\n",
    "        return False\n",
    "    queue = [root]\n",
    "    while len(queue) > 0:\n",
    "        current = queue.pop(0)\n",
    "        if current.value == target:\n",
    "            return True\n",
    "        if current.left != None:\n",
    "            queue.append(current.left)\n",
    "        if current.right != None:\n",
    "            queue.append(current.right)\n",
    "    return False\n",
    "\n",
    "Node.treeIncludesBreadthSearch = treeIncludesBreadthSearch\n",
    "print(Node.treeIncludesBreadthSearch(tree, target=29))"
   ]
  },
  {
   "cell_type": "markdown",
   "metadata": {},
   "source": [
    "Depth First Search Solution"
   ]
  },
  {
   "cell_type": "code",
   "execution_count": 79,
   "metadata": {},
   "outputs": [
    {
     "data": {
      "text/plain": [
       "False"
      ]
     },
     "execution_count": 79,
     "metadata": {},
     "output_type": "execute_result"
    }
   ],
   "source": [
    "def treeIncludesDepthSearch(root, target):\n",
    "    if root is None:\n",
    "        return False\n",
    "    if root.value == target:\n",
    "        return True\n",
    "    rightBooleans = Node.treeIncludesDepthSearch(root.right, target)\n",
    "    leftBooleans = Node.treeIncludesDepthSearch(root.left, target)\n",
    "    if rightBooleans == True or leftBooleans == True:\n",
    "        return True\n",
    "    return False\n",
    "\n",
    "Node.treeIncludesDepthSearch = treeIncludesDepthSearch\n",
    "Node.treeIncludesDepthSearch(tree, 29)"
   ]
  },
  {
   "cell_type": "markdown",
   "metadata": {},
   "source": [
    "#### Tree Sum: Get The Sum Of All The Values In A Tree\n",
    "Time and space complexity:\n",
    "* n = number of nodes\n",
    "* time = o(n)\n",
    "* space = o(n)\n",
    "\n",
    "`FYI` just because the right nodes of a tree has bigger values doesn't mean that going to the right-most leaf node will give the largest sum to leaf."
   ]
  },
  {
   "cell_type": "markdown",
   "metadata": {},
   "source": [
    "Recursively solution by depth first search"
   ]
  },
  {
   "cell_type": "code",
   "execution_count": 80,
   "metadata": {},
   "outputs": [
    {
     "data": {
      "text/plain": [
       "462"
      ]
     },
     "execution_count": 80,
     "metadata": {},
     "output_type": "execute_result"
    }
   ],
   "source": [
    "def treeSumRecursively(root):\n",
    "    if root is None:\n",
    "        return 0\n",
    "    sumOfRightSubTree = Node.treeSumRecursively(root.right)\n",
    "    sumOfLeftSubTree = Node.treeSumRecursively(root.left)\n",
    "    return root.value + sumOfRightSubTree + sumOfLeftSubTree\n",
    "\n",
    "Node.treeSumRecursively = treeSumRecursively\n",
    "Node.treeSumRecursively(tree)"
   ]
  },
  {
   "cell_type": "markdown",
   "metadata": {},
   "source": [
    "Interactively solution by breath first search"
   ]
  },
  {
   "cell_type": "code",
   "execution_count": 81,
   "metadata": {},
   "outputs": [
    {
     "data": {
      "text/plain": [
       "462"
      ]
     },
     "execution_count": 81,
     "metadata": {},
     "output_type": "execute_result"
    }
   ],
   "source": [
    "def treeSumInteractive(root):\n",
    "    if root is None:\n",
    "        return 0\n",
    "    queue = [root]\n",
    "    sum = 0\n",
    "    while len(queue) > 0:\n",
    "        current = queue.pop(0)\n",
    "        sum += current.value\n",
    "        if current.left != None:\n",
    "            queue.append(current.left)\n",
    "        if current.right != None:\n",
    "            queue.append(current.right)\n",
    "    return sum\n",
    "\n",
    "Node.treeSumInteractive = treeSumInteractive\n",
    "Node.treeSumInteractive(tree)"
   ]
  },
  {
   "cell_type": "markdown",
   "metadata": {},
   "source": [
    "#### Find min value in tree TREE MIN VALUE\n",
    "Time and space complexity:\n",
    "* n = number of nodes\n",
    "* time = o(n)\n",
    "* space = o(n)"
   ]
  },
  {
   "cell_type": "markdown",
   "metadata": {},
   "source": [
    "Interactive solution"
   ]
  },
  {
   "cell_type": "code",
   "execution_count": 82,
   "metadata": {},
   "outputs": [
    {
     "data": {
      "text/plain": [
       "3"
      ]
     },
     "execution_count": 82,
     "metadata": {},
     "output_type": "execute_result"
    }
   ],
   "source": [
    "def treeMinValueInteractive(root):\n",
    "    stack = [root]\n",
    "    min = float('inf')\n",
    "    while len(stack) > 0:\n",
    "        current = stack.pop()\n",
    "        if current.value < min:\n",
    "            min = current.value\n",
    "        if current.left != None:\n",
    "            stack.append(current.left)\n",
    "        if current.right != None:\n",
    "            stack.append(current.right)\n",
    "    return min\n",
    "\n",
    "Node.treeMinValueInteractive = treeMinValueInteractive\n",
    "Node.treeMinValueInteractive(tree)"
   ]
  },
  {
   "cell_type": "markdown",
   "metadata": {},
   "source": [
    "Recursive solution"
   ]
  },
  {
   "cell_type": "code",
   "execution_count": 83,
   "metadata": {},
   "outputs": [
    {
     "data": {
      "text/plain": [
       "3"
      ]
     },
     "execution_count": 83,
     "metadata": {},
     "output_type": "execute_result"
    }
   ],
   "source": [
    "def treeMinValueRecursive(root):\n",
    "    if root is None:\n",
    "        return float('inf')\n",
    "    smallestValueInSubLeftTree = Node.treeMinValueRecursive(root.left)\n",
    "    smallestValueInSubRightTree = Node.treeMinValueRecursive(root.right)\n",
    "    return min(root.value, smallestValueInSubLeftTree, smallestValueInSubRightTree)\n",
    "\n",
    "Node.treeMinValueRecursive = treeMinValueRecursive\n",
    "Node.treeMinValueRecursive(tree)"
   ]
  },
  {
   "cell_type": "markdown",
   "metadata": {},
   "source": [
    "#### Leaf Path That Sums Up To Max From Root\n",
    "\n",
    "Which path to a leaf node, sums up to the most.\n",
    "\n",
    "i.e\n",
    "|||||||\n",
    "|--|---|--|-|-|-|\n",
    "|||3|||||\n",
    "||4|||11|||\n",
    "|1||4|||6||\n",
    "\n",
    "Leaf that sums most is from 3 + 11 + 6  \n",
    "returns [3, 11, 6]\n",
    "\n",
    "Time and space complexity:\n",
    "* n = number of nodes\n",
    "* time = o(n)\n",
    "* space = o(n)\n",
    "\n",
    "Recursive"
   ]
  },
  {
   "cell_type": "code",
   "execution_count": 84,
   "metadata": {},
   "outputs": [
    {
     "data": {
      "text/plain": [
       "272"
      ]
     },
     "execution_count": 84,
     "metadata": {},
     "output_type": "execute_result"
    }
   ],
   "source": [
    "def maxSumRootToLeaf(root):\n",
    "    # recursive solution\n",
    "    if root is None:\n",
    "        return float('-inf')\n",
    "    if root.left is None and root.right is None:\n",
    "        return root.value # we know that we have a leaf when their is no children \n",
    "    maxLeftSubTree = Node.maxSumRootToLeaf(root.left)\n",
    "    maxRightSubTree = Node.maxSumRootToLeaf(root.right)\n",
    "    # compare the paths then add it to the root\n",
    "    maxChild = max(maxLeftSubTree, maxRightSubTree)\n",
    "    return root.value + maxChild\n",
    "\n",
    "Node.maxSumRootToLeaf = maxSumRootToLeaf\n",
    "Node.maxSumRootToLeaf(tree)"
   ]
  },
  {
   "cell_type": "code",
   "execution_count": 85,
   "metadata": {},
   "outputs": [
    {
     "data": {
      "text/plain": [
       "(272, [74, 98, 100])"
      ]
     },
     "execution_count": 85,
     "metadata": {},
     "output_type": "execute_result"
    }
   ],
   "source": [
    "def max_path_sum_and_nodes(root):\n",
    "    max_sum = float('-inf')\n",
    "    max_path = []\n",
    "    # Helper function to perform DFS traversal\n",
    "    def dfs(node, curr_sum, path):\n",
    "        nonlocal max_sum, max_path\n",
    "        \n",
    "        if not node:\n",
    "            return\n",
    "        \n",
    "        # Add the current node's value to the current sum\n",
    "        curr_sum += node.value\n",
    "        path.append(node.value)\n",
    "        \n",
    "        # If it's a leaf node and the current sum is greater than the max sum encountered so far\n",
    "        if not node.left and not node.right:\n",
    "            if curr_sum > max_sum:\n",
    "                max_sum = curr_sum\n",
    "                max_path = path.copy()\n",
    "        \n",
    "        # Recursively explore left and right subtrees\n",
    "        dfs(node.left, curr_sum, path)\n",
    "        dfs(node.right, curr_sum, path)\n",
    "        \n",
    "        # Backtrack: Remove the current node's value from the path\n",
    "        path.pop()\n",
    "    \n",
    "    # Start DFS traversal from the root with current sum = 0 and empty path\n",
    "    dfs(root, 0, [])\n",
    "\n",
    "    return max_sum, max_path\n",
    "max_path_sum_and_nodes(tree)"
   ]
  },
  {
   "cell_type": "markdown",
   "metadata": {},
   "source": [
    "#### Find the closest value in bst to a target number\n",
    "\n",
    "Time And Space Complexity  \n",
    "time: o(n) since we are visiting every node"
   ]
  },
  {
   "cell_type": "code",
   "execution_count": 86,
   "metadata": {},
   "outputs": [
    {
     "data": {
      "text/plain": [
       "27"
      ]
     },
     "execution_count": 86,
     "metadata": {},
     "output_type": "execute_result"
    }
   ],
   "source": [
    "def findClosestValueInBst(root, target):\n",
    "    if root is None:\n",
    "        return []\n",
    "    currClosestDiff = float('inf')\n",
    "    currClosestNode = None\n",
    "    stack = [root]  # holds values to be compared default root values\n",
    "    while len(stack) > 0:\n",
    "        current = stack.pop()\n",
    "        if abs(target - current.value) < currClosestDiff:\n",
    "            currClosestDiff = abs(target - current.value)\n",
    "            currClosestNode = current.value\n",
    "        if current.right != None and target > current.value:\n",
    "            stack.append(current.right)\n",
    "        elif current.left != None and target < current.value:\n",
    "            stack.append(current.left)\n",
    "    return currClosestNode\n",
    "\n",
    "Node.findClosestValueInBst = findClosestValueInBst\n",
    "Node.findClosestValueInBst(tree, 31)"
   ]
  },
  {
   "cell_type": "markdown",
   "metadata": {},
   "source": [
    "#### Insert A Node\n",
    "Time: O(Log N) because we see less and less of the tree as we traverse it.\n",
    "\n",
    "Recursively"
   ]
  },
  {
   "cell_type": "code",
   "execution_count": 87,
   "metadata": {},
   "outputs": [
    {
     "name": "stdout",
     "output_type": "stream",
     "text": [
      "Old Tree:\n",
      "\n",
      "\n",
      "                    r_n, 98=> 100\n",
      "\n",
      "\n",
      "          r_n, 74=> 98\n",
      "\n",
      "\n",
      "rootNode 74\n",
      "\n",
      "\n",
      "                              r_n, 45=> 51\n",
      "\n",
      "\n",
      "                    r_n, 38=> 45\n",
      "\n",
      "\n",
      "          l_n, 74=> 38\n",
      "\n",
      "\n",
      "                    l_n, 38=> 27\n",
      "\n",
      "\n",
      "                              l_n, 27=> 15\n",
      "\n",
      "\n",
      "                                        l_n, 15=> 11\n",
      "\n",
      "\n",
      "                                                  l_n, 11=> 3\n",
      "\n",
      "Inserted Node: 3\n",
      "\n",
      "New Tree:\n",
      "\n",
      "\n",
      "                    r_n, 98=> 100\n",
      "\n",
      "\n",
      "          r_n, 74=> 98\n",
      "\n",
      "\n",
      "rootNode 74\n",
      "\n",
      "\n",
      "                              r_n, 45=> 51\n",
      "\n",
      "\n",
      "                    r_n, 38=> 45\n",
      "\n",
      "\n",
      "          l_n, 74=> 38\n",
      "\n",
      "\n",
      "                    l_n, 38=> 27\n",
      "\n",
      "\n",
      "                              l_n, 27=> 15\n",
      "\n",
      "\n",
      "                                        l_n, 15=> 11\n",
      "\n",
      "\n",
      "                                                  l_n, 11=> 3\n",
      "\n",
      "\n",
      "                                                            l_n, 3=> 3\n"
     ]
    }
   ],
   "source": [
    "def insert(root, newNode):\n",
    "    if root is None:\n",
    "        root = newNode\n",
    "    else:\n",
    "        if root.value < newNode.value:\n",
    "            if root.right is None:\n",
    "                root.right = newNode\n",
    "            else:\n",
    "                Node.insert(root.right, newNode)\n",
    "        else:\n",
    "            if root.left is None:\n",
    "                root.left = newNode\n",
    "            else:\n",
    "                Node.insert(root.left, newNode)\n",
    "    return root.value\n",
    "\n",
    "Node.insert = insert\n",
    "newNode = Node(3)\n",
    "print(\"Old Tree:\")\n",
    "Node.printTree(tree)   \n",
    "print(\"\\nInserted Node:\", newNode.value)\n",
    "Node.insert(tree, newNode)\n",
    "print(\"\\nNew Tree:\")\n",
    "Node.printTree(tree)   "
   ]
  },
  {
   "cell_type": "markdown",
   "metadata": {},
   "source": [
    "#### Branch Sum Find The Sum Of All Nodes To All Leaf\n",
    "\n",
    "Go from root to to each leaf and sum the values directly from the root\n",
    "\n",
    "i.e\n",
    "|||||||\n",
    "|--|---|--|-|-|-|\n",
    "|||3|||||\n",
    "||11|||4|||\n",
    "|4|||-2||1||\n",
    "\n",
    "The 4 is a leaf so the sum = 3 + 11 + 4 = 18  \n",
    "do the same for -2 and 1\n",
    "\n",
    "* time : o(n)\n",
    "* space o(n)\n",
    "\n",
    "Recursive Solution:"
   ]
  },
  {
   "cell_type": "code",
   "execution_count": 89,
   "metadata": {},
   "outputs": [
    {
     "data": {
      "text/plain": [
       "[171, 208, 272]"
      ]
     },
     "execution_count": 89,
     "metadata": {},
     "output_type": "execute_result"
    }
   ],
   "source": [
    "def branchSum(root):\n",
    "    sums = []\n",
    "    Node.calculateBranchSums(root, 0, sums)\n",
    "    return sums\n",
    "\n",
    "def calculateBranchSums(node, runningSum, sums):\n",
    "    if node is None:\n",
    "        return\n",
    "    newRunningSum = runningSum + node.value\n",
    "    if node.right is None and node.left is None:\n",
    "        sums.append(newRunningSum)\n",
    "        return\n",
    "    Node.calculateBranchSums(node.left, newRunningSum, sums)\n",
    "    Node.calculateBranchSums(node.right, newRunningSum, sums)\n",
    "    \n",
    "Node.calculateBranchSums = calculateBranchSums\n",
    "Node.branchSum = branchSum\n",
    "Node.branchSum(tree)"
   ]
  },
  {
   "cell_type": "markdown",
   "metadata": {},
   "source": [
    "Iterative solution:"
   ]
  },
  {
   "cell_type": "code",
   "execution_count": 90,
   "metadata": {},
   "outputs": [
    {
     "name": "stdout",
     "output_type": "stream",
     "text": [
      "Root node: 58\n"
     ]
    },
    {
     "data": {
      "text/plain": [
       "[146, 175, 168, 210, 237]"
      ]
     },
     "execution_count": 90,
     "metadata": {},
     "output_type": "execute_result"
    }
   ],
   "source": [
    "def branchSumInteractive(root):\n",
    "    stack = [(root, 0)]\n",
    "    branchSumValues = []\n",
    "    while len(stack) > 0:\n",
    "        current, sumValue = stack.pop()\n",
    "        if current.left is None and current.right is None:\n",
    "            branchSumValues.append(sumValue + current.value)\n",
    "        if current.left is not None:\n",
    "            stack.append((current.left, sumValue+current.value))\n",
    "        if current.right is not None:\n",
    "            stack.append((current.right, sumValue+current.value))\n",
    "    branchSumValues.reverse()\n",
    "    return branchSumValues\n",
    "\n",
    "Node.branchSumInteractive = branchSumInteractive\n",
    "Node.branchSumInteractive(create_tree())"
   ]
  },
  {
   "cell_type": "markdown",
   "metadata": {},
   "source": [
    "#### Write A Function That Takes A Binary Tree And Returns The Sum Of Its Nodes Depths\n",
    "node depth find the distance between all nodes except the root\n",
    "and the trees root node and returns the sum on it all\n",
    "\n",
    "i.e\n",
    "|||||||\n",
    "|--|---|--|-|-|-|\n",
    "|||20|||||\n",
    "||14|||23|||\n",
    "|7||17|||30||\n",
    "\n",
    "14 and 23 are both 1 each from 20 = 1 + 1   \n",
    "7 & 17 & 30 are each 2 from 20  = 2 + 2 = 2  \n",
    "so the sum is 1+1+2+2+2 = 8   \n",
    "\n",
    "\n",
    "Iterative Solution:"
   ]
  },
  {
   "cell_type": "code",
   "execution_count": 150,
   "metadata": {},
   "outputs": [
    {
     "data": {
      "text/plain": [
       "11"
      ]
     },
     "execution_count": 150,
     "metadata": {},
     "output_type": "execute_result"
    }
   ],
   "source": [
    "# TODO\n",
    "def nodeDepthsInteractive(root):\n",
    "    if root is None:\n",
    "        return []\n",
    "    stack = [root]\n",
    "    sum = 0\n",
    "    root.lengthFromRoot = 0\n",
    "    while len(stack) > 0:\n",
    "        current = stack.pop()\n",
    "        sum += current.lengthFromRoot\n",
    "        if current.right != None:\n",
    "            current.right.lengthFromRoot = current.lengthFromRoot + 1\n",
    "            stack.append(current.right)\n",
    "        if current.left != None:\n",
    "            current.left.lengthFromRoot = current.lengthFromRoot + 1\n",
    "            stack.append(current.left)\n",
    "    return sum\n",
    "\n",
    "Node.nodeDepthsInteractive = nodeDepthsInteractive\n",
    "Node.nodeDepthsInteractive(create_tree())\n"
   ]
  },
  {
   "cell_type": "markdown",
   "metadata": {},
   "source": [
    "Recursive Solution:"
   ]
  },
  {
   "cell_type": "code",
   "execution_count": 151,
   "metadata": {},
   "outputs": [
    {
     "data": {
      "text/plain": [
       "11"
      ]
     },
     "execution_count": 151,
     "metadata": {},
     "output_type": "execute_result"
    }
   ],
   "source": [
    "def nodeDepthsRecursive(root, lengthFromRoot=0):\n",
    "    # time : 0(n)\n",
    "    # space o(h)\n",
    "    if root is None:\n",
    "        return 0\n",
    "    return lengthFromRoot + Node.nodeDepthsRecursive(root.left, lengthFromRoot + 1) + Node.nodeDepthsRecursive(root.right, lengthFromRoot + 1)\n",
    "\n",
    "Node.nodeDepthsRecursive = nodeDepthsRecursive\n",
    "Node.nodeDepthsRecursive(create_tree())"
   ]
  },
  {
   "cell_type": "markdown",
   "metadata": {},
   "source": [
    "#### Find The Kth Largest Value In Tree\n",
    "\n",
    "k = 3 return the third largest value in the bst\n",
    "\n",
    "Time: O(N^2) worst case becuase we look thru all the nodes, and at every node we loop thru the largestInt arr to check if we can add that Node's value\n"
   ]
  },
  {
   "cell_type": "code",
   "execution_count": 165,
   "metadata": {},
   "outputs": [
    {
     "data": {
      "text/plain": [
       "([69, 72, 97], \"K'th node is\", 97)"
      ]
     },
     "execution_count": 165,
     "metadata": {},
     "output_type": "execute_result"
    }
   ],
   "source": [
    "def findKthLargestValueInBst(root, k):\n",
    "    largestInts = k * [float('-inf')]\n",
    "    stack = [root] \n",
    "    while len(stack) > 0:\n",
    "        curr = stack.pop()\n",
    "        index = 0\n",
    "        # if the value is big enough add it to the sorted largestInts array\n",
    "        while index < len(largestInts) and curr.value > largestInts[index]:\n",
    "            index += 1\n",
    "        largestInts[index:index] = [curr.value]\n",
    "        largestInts.pop(0) # drop the first index since that has the smalled value\n",
    "        if curr.right != None:\n",
    "            stack.append(curr.right)\n",
    "        if curr.left != None:\n",
    "            stack.append(curr.left)\n",
    "    return largestInts, \"K'th node is\", largestInts[len(largestInts) - 1]\n",
    "\n",
    "Node.findKthLargestValueInBst = findKthLargestValueInBst\n",
    "Node.findKthLargestValueInBst(tree, 3)"
   ]
  },
  {
   "cell_type": "markdown",
   "metadata": {},
   "source": [
    "#### Traverse A Bst In Different Orders"
   ]
  },
  {
   "cell_type": "code",
   "execution_count": 166,
   "metadata": {},
   "outputs": [
    {
     "name": "stdout",
     "output_type": "stream",
     "text": [
      "Root node: 35\n",
      "\n",
      "\n",
      "                    r_n, 44=> 83\n",
      "\n",
      "\n",
      "                                        r_n, 64=> 79\n",
      "\n",
      "\n",
      "                                                  l_n, 79=> 73\n",
      "\n",
      "\n",
      "                              l_n, 83=> 64\n",
      "\n",
      "\n",
      "          r_n, 35=> 44\n",
      "\n",
      "\n",
      "rootNode 35\n",
      "\n",
      "\n",
      "                    r_n, 8=> 23\n",
      "\n",
      "\n",
      "                              l_n, 23=> 19\n",
      "\n",
      "\n",
      "          l_n, 35=> 8\n"
     ]
    }
   ],
   "source": [
    "tree = create_tree()\n",
    "Node.printTree(tree)"
   ]
  },
  {
   "cell_type": "code",
   "execution_count": 167,
   "metadata": {},
   "outputs": [
    {
     "data": {
      "text/plain": [
       "[8, 19, 23, 35, 44, 64, 73, 79, 83]"
      ]
     },
     "execution_count": 167,
     "metadata": {},
     "output_type": "execute_result"
    }
   ],
   "source": [
    "def inOrderTraverse(tree, array=[]):\n",
    "    stack = []\n",
    "    if tree is not None:\n",
    "        curr = tree\n",
    "    while stack or curr is not None:\n",
    "        while curr is not None:\n",
    "            stack.append(curr)\n",
    "            curr = curr.left\n",
    "        curr = stack.pop()\n",
    "        array.append(curr.value)\n",
    "        curr = curr.right\n",
    "    return array\n",
    "Node.inOrderTraverse = inOrderTraverse\n",
    "Node.inOrderTraverse(tree)"
   ]
  },
  {
   "cell_type": "markdown",
   "metadata": {},
   "source": [
    "Print the Nodes going from root, to the leftmost leaf node, then to the right nodes"
   ]
  },
  {
   "cell_type": "code",
   "execution_count": 168,
   "metadata": {},
   "outputs": [
    {
     "data": {
      "text/plain": [
       "[35, 8, 23, 19, 44, 83, 64, 79, 73]"
      ]
     },
     "execution_count": 168,
     "metadata": {},
     "output_type": "execute_result"
    }
   ],
   "source": [
    "def preOrderTraverse(tree, array=[]):\n",
    "    if tree is None:\n",
    "        return []\n",
    "    rightValues = Node.preOrderTraverse(tree.right)\n",
    "    leftValues = Node.preOrderTraverse(tree.left)\n",
    "    return [tree.value, *leftValues, *rightValues]\n",
    "\n",
    "Node.preOrderTraverse = preOrderTraverse\n",
    "Node.preOrderTraverse(tree)"
   ]
  },
  {
   "cell_type": "markdown",
   "metadata": {},
   "source": [
    "Similar to preOrderTraverse except we print from leftmost lead node than go right up to root node"
   ]
  },
  {
   "cell_type": "code",
   "execution_count": 169,
   "metadata": {},
   "outputs": [
    {
     "data": {
      "text/plain": [
       "[19, 23, 8, 73, 79, 64, 83, 44, 35]"
      ]
     },
     "execution_count": 169,
     "metadata": {},
     "output_type": "execute_result"
    }
   ],
   "source": [
    "def postOrderTraverse(tree, array=[]):\n",
    "    if tree is None:\n",
    "        return []\n",
    "    leftValues = Node.postOrderTraverse(tree.left)\n",
    "    rightValues = Node.postOrderTraverse(tree.right)\n",
    "    return [*leftValues, *rightValues, tree.value]\n",
    "\n",
    "Node.postOrderTraverse = postOrderTraverse\n",
    "Node.postOrderTraverse(tree)"
   ]
  },
  {
   "cell_type": "code",
   "execution_count": null,
   "metadata": {},
   "outputs": [],
   "source": []
  }
 ],
 "metadata": {
  "kernelspec": {
   "display_name": "AI_env",
   "language": "python",
   "name": "python3"
  },
  "language_info": {
   "codemirror_mode": {
    "name": "ipython",
    "version": 3
   },
   "file_extension": ".py",
   "mimetype": "text/x-python",
   "name": "python",
   "nbconvert_exporter": "python",
   "pygments_lexer": "ipython3",
   "version": "3.10.13"
  }
 },
 "nbformat": 4,
 "nbformat_minor": 2
}
