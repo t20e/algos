{
 "cells": [
  {
   "cell_type": "markdown",
   "metadata": {},
   "source": [
    "## Quick Sort:\n",
    "\n",
    "A PIVOT is a item in the arr;  items to the left have to be less than it or equal to and items to the right have to be greater than it.\n",
    "\n",
    "* Quicksort is one of the most effective algo for sorting.\n"
   ]
  },
  {
   "cell_type": "code",
   "execution_count": 1,
   "metadata": {},
   "outputs": [],
   "source": [
    "arr = [2, 34, 45, 6, 5, 0, 8, 45, 7, 1, 3,42]"
   ]
  },
  {
   "cell_type": "code",
   "execution_count": 2,
   "metadata": {},
   "outputs": [],
   "source": [
    "def quickSort(arr):\n",
    "    # get the length arr and if that call stacks arr is empty return empty arr\n",
    "    if len(arr) <= 1:\n",
    "        return arr\n",
    "    # remove the last index as PIVOT\n",
    "    pivot = arr.pop()\n",
    "    # create two lists containing the items to its left and right that are > or < respectively\n",
    "    items_greater = []\n",
    "    items_less = []\n",
    "    for item in arr:\n",
    "        if item > pivot:\n",
    "            items_greater.append(item)\n",
    "        else:\n",
    "            items_less.append(item)\n",
    "    return quickSort(items_less) + [pivot] + quickSort(items_greater)"
   ]
  },
  {
   "cell_type": "code",
   "execution_count": 3,
   "metadata": {},
   "outputs": [
    {
     "name": "stdout",
     "output_type": "stream",
     "text": [
      "[0, 1, 2, 3, 5, 6, 7, 8, 34, 42, 45, 45]\n"
     ]
    }
   ],
   "source": [
    "print(quickSort(arr))"
   ]
  },
  {
   "cell_type": "code",
   "execution_count": null,
   "metadata": {},
   "outputs": [],
   "source": []
  }
 ],
 "metadata": {
  "kernelspec": {
   "display_name": "AI_env",
   "language": "python",
   "name": "python3"
  },
  "language_info": {
   "codemirror_mode": {
    "name": "ipython",
    "version": 3
   },
   "file_extension": ".py",
   "mimetype": "text/x-python",
   "name": "python",
   "nbconvert_exporter": "python",
   "pygments_lexer": "ipython3",
   "version": "3.10.13"
  }
 },
 "nbformat": 4,
 "nbformat_minor": 2
}
