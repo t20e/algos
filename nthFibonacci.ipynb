{
 "cells": [
  {
   "cell_type": "markdown",
   "metadata": {},
   "source": [
    "## Nth Fibonacci\n",
    "\n",
    "The Fibonacci sequence is defined as follows:\n",
    "* the first number of the sequence is 0 the second number is 1 \n",
    "* the n'th number is the sum of the (n - 1)th and (n - 2)th numbers. \n",
    "\n",
    "return the sum of (n -1)th and (n - 2)th numbers  \n",
    "nth numbers runs like 0 1 1 2 3 5 8 13 21 34\n",
    "\n"
   ]
  },
  {
   "cell_type": "markdown",
   "metadata": {},
   "source": [
    "##### Recursive Examples\n",
    "\n",
    "RECURSIVE is not efficient"
   ]
  },
  {
   "cell_type": "code",
   "execution_count": 10,
   "metadata": {},
   "outputs": [],
   "source": [
    "memo = {}\n",
    "\n",
    "def getNthFib(n):\n",
    "    # this line is so we dont have to make more functions on n number if we already \n",
    "    # have u can see this if you remove the first if statement\n",
    "    if n in memo:\n",
    "        return memo[n]\n",
    "    if n == 2:\n",
    "        return 1\n",
    "    elif n == 1:\n",
    "        return 0\n",
    "    else:\n",
    "        print('first:', getNthFib(n-1), 'second:', getNthFib(n-2))\n",
    "        f = getNthFib(n-1) + getNthFib(n-2)\n",
    "    memo[n] = f\n",
    "    return f\n",
    "\n",
    "getNthFib(n= 10)"
   ]
  },
  {
   "cell_type": "markdown",
   "metadata": {},
   "source": [
    "##### Another\n",
    "\n",
    "with NthFib we do a lot of the same calculation so storing the calculations in a memoize so we don't have to redo the calculations"
   ]
  },
  {
   "cell_type": "code",
   "execution_count": 1,
   "metadata": {},
   "outputs": [
    {
     "name": "stdout",
     "output_type": "stream",
     "text": [
      "{1: 0, 2: 1} n: 10\n",
      "{1: 0, 2: 1} n: 9\n",
      "{1: 0, 2: 1} n: 8\n",
      "{1: 0, 2: 1} n: 7\n",
      "{1: 0, 2: 1} n: 6\n",
      "{1: 0, 2: 1} n: 5\n",
      "{1: 0, 2: 1} n: 4\n",
      "{1: 0, 2: 1} n: 3\n",
      "{1: 0, 2: 1} n: 2\n",
      "{1: 0, 2: 1} n: 1\n",
      "{1: 0, 2: 1, 3: 1} n: 2\n",
      "{1: 0, 2: 1, 3: 1, 4: 2} n: 3\n",
      "{1: 0, 2: 1, 3: 1, 4: 2, 5: 3} n: 4\n",
      "{1: 0, 2: 1, 3: 1, 4: 2, 5: 3, 6: 5} n: 5\n",
      "{1: 0, 2: 1, 3: 1, 4: 2, 5: 3, 6: 5, 7: 8} n: 6\n",
      "{1: 0, 2: 1, 3: 1, 4: 2, 5: 3, 6: 5, 7: 8, 8: 13} n: 7\n",
      "{1: 0, 2: 1, 3: 1, 4: 2, 5: 3, 6: 5, 7: 8, 8: 13, 9: 21} n: 8\n"
     ]
    },
    {
     "data": {
      "text/plain": [
       "34"
      ]
     },
     "execution_count": 1,
     "metadata": {},
     "output_type": "execute_result"
    }
   ],
   "source": [
    "def getNthFib2(n, memoize = {1:0, 2:1}):\n",
    "    print( memoize, 'n:',n)\n",
    "    if n in memoize:\n",
    "        return memoize[n]\n",
    "    else:\n",
    "        memoize[n] = getNthFib2(n - 1, memoize) + getNthFib2(n - 2, memoize)\n",
    "        return memoize[n]\n",
    "    \n",
    "getNthFib2(10)"
   ]
  },
  {
   "cell_type": "markdown",
   "metadata": {},
   "source": [
    "##### Iterative Example"
   ]
  },
  {
   "cell_type": "code",
   "execution_count": 20,
   "metadata": {},
   "outputs": [],
   "source": [
    "def getNthFibIter(n):\n",
    "    lastTwo = [0, 1]\n",
    "    counter = 3\n",
    "    while counter <= n:\n",
    "        nextFib = lastTwo[0] + lastTwo[1]\n",
    "        lastTwo[0] = lastTwo[1]\n",
    "        lastTwo[1] = nextFib\n",
    "        counter += 1\n",
    "    return lastTwo[1] if n > 1 else lastTwo[0]"
   ]
  },
  {
   "cell_type": "code",
   "execution_count": 21,
   "metadata": {},
   "outputs": [
    {
     "data": {
      "text/plain": [
       "34"
      ]
     },
     "execution_count": 21,
     "metadata": {},
     "output_type": "execute_result"
    }
   ],
   "source": [
    "getNthFibIter(10)"
   ]
  },
  {
   "cell_type": "code",
   "execution_count": null,
   "metadata": {},
   "outputs": [],
   "source": []
  }
 ],
 "metadata": {
  "kernelspec": {
   "display_name": "AI_env",
   "language": "python",
   "name": "python3"
  },
  "language_info": {
   "codemirror_mode": {
    "name": "ipython",
    "version": 3
   },
   "file_extension": ".py",
   "mimetype": "text/x-python",
   "name": "python",
   "nbconvert_exporter": "python",
   "pygments_lexer": "ipython3",
   "version": "3.10.13"
  }
 },
 "nbformat": 4,
 "nbformat_minor": 2
}
