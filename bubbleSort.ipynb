{
 "cells": [
  {
   "cell_type": "markdown",
   "metadata": {},
   "source": [
    "## Bubble Sort:\n",
    "sort array "
   ]
  },
  {
   "cell_type": "code",
   "execution_count": 1,
   "metadata": {},
   "outputs": [],
   "source": [
    "array = [23, 1, 435, 34, 12, 53, 8, 78, 34]"
   ]
  },
  {
   "cell_type": "code",
   "execution_count": 2,
   "metadata": {},
   "outputs": [],
   "source": [
    "def bubbleSort(arr):\n",
    "    # time: O(n^2)\n",
    "    # space: O(1)\n",
    "    n = len(arr)\n",
    "    for i in range(n):\n",
    "        # print('\\ni', i)\n",
    "        # print( n - i - 1)\n",
    "        for j in range(0, n - i - 1):\n",
    "            # print(j)\n",
    "            \"\"\"_summary_\n",
    "                The for loop running from 0 to n - i - 1 is used to limit the number of \n",
    "                elements to be compared in each iteration. The variable i keeps track of the\n",
    "                number of passes already made, and n - i - 1 is the number of elements left \n",
    "                to be compared in the current pass.\n",
    "            \"\"\"\n",
    "            # print('minus here range',  n - i - 1)\n",
    "            if arr[j] > arr[j + 1]:\n",
    "                print(\"left:\",arr[j],\"greater than:\", arr[j + 1])\n",
    "                arr[j], arr[j + 1] = arr[j + 1], arr[j]\n",
    "    return arr"
   ]
  },
  {
   "cell_type": "code",
   "execution_count": 3,
   "metadata": {},
   "outputs": [
    {
     "name": "stdout",
     "output_type": "stream",
     "text": [
      "left: 23 greater than: 1\n",
      "left: 435 greater than: 34\n",
      "left: 435 greater than: 12\n",
      "left: 435 greater than: 53\n",
      "left: 435 greater than: 8\n",
      "left: 435 greater than: 78\n",
      "left: 435 greater than: 34\n",
      "left: 34 greater than: 12\n",
      "left: 53 greater than: 8\n",
      "left: 78 greater than: 34\n",
      "left: 23 greater than: 12\n",
      "left: 34 greater than: 8\n",
      "left: 53 greater than: 34\n",
      "left: 23 greater than: 8\n",
      "left: 12 greater than: 8\n"
     ]
    },
    {
     "data": {
      "text/plain": [
       "[1, 8, 12, 23, 34, 34, 53, 78, 435]"
      ]
     },
     "execution_count": 3,
     "metadata": {},
     "output_type": "execute_result"
    }
   ],
   "source": [
    "bubbleSort(array) "
   ]
  },
  {
   "cell_type": "code",
   "execution_count": 5,
   "metadata": {},
   "outputs": [
    {
     "data": {
      "text/plain": [
       "[1, 8, 12, 23, 34, 34, 53, 78, 435]"
      ]
     },
     "execution_count": 5,
     "metadata": {},
     "output_type": "execute_result"
    }
   ],
   "source": [
    "\"\"\"\n",
    "Also notice how the array changed without assigning it outside the function\n",
    "The reason the global variable array is being updated is because lists are mutable objects in Python. \n",
    "In the bubbleSort function, you are directly modifying the elements of the list arr, which is the same list as the global variable array.\n",
    "\"\"\"\n",
    "array"
   ]
  },
  {
   "cell_type": "code",
   "execution_count": null,
   "metadata": {},
   "outputs": [],
   "source": []
  }
 ],
 "metadata": {
  "kernelspec": {
   "display_name": "AI_env",
   "language": "python",
   "name": "python3"
  },
  "language_info": {
   "codemirror_mode": {
    "name": "ipython",
    "version": 3
   },
   "file_extension": ".py",
   "mimetype": "text/x-python",
   "name": "python",
   "nbconvert_exporter": "python",
   "pygments_lexer": "ipython3",
   "version": "3.10.13"
  }
 },
 "nbformat": 4,
 "nbformat_minor": 2
}
