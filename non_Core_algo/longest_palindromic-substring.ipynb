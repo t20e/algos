{
 "cells": [
  {
   "cell_type": "markdown",
   "metadata": {},
   "source": [
    "## Longest Palindromic Substring\n",
    "\n",
    "A palindrome is a string that reads the same ways forward as it does backwards\n"
   ]
  },
  {
   "cell_type": "markdown",
   "metadata": {},
   "source": [
    "Tip: The key=len in max function is so we get the longest string\n",
    "\n",
    "Time: O(N<sup>2</sup>) because of the nested for-loop in the for-loop   \n",
    "Space: O(1) we are only storing the longest string in ans "
   ]
  },
  {
   "cell_type": "code",
   "execution_count": 1,
   "metadata": {},
   "outputs": [
    {
     "name": "stdout",
     "output_type": "stream",
     "text": [
      "first: maddam\n",
      "second:  madam\n"
     ]
    }
   ],
   "source": [
    "def longestPalindrome(s: str) -> str:\n",
    "    ans = \"\"\n",
    "    for idx in range(len(s)):\n",
    "        # expand(s, idx, idx+1) to catch EVEN number palindromes  \n",
    "        # expand(s, idx, idx) to catch ODD number palindromes \n",
    "        ans = max(ans, expand(s, idx, idx ), expand(s, idx, idx+1 ), key=len)\n",
    "    return ans\n",
    "\n",
    "def expand(s, l, r) -> str: \n",
    "    \"\"\"\n",
    "    Parameters\n",
    "    ==========\n",
    "    l: int\n",
    "        left pointer index\n",
    "    r: int\n",
    "        right pointer index\n",
    "    we move in the string from center character to left and right most palindromic characters of the string\n",
    "    \"\"\"\n",
    "    while l>= 0 and r< len(s) and s[l]==s[r]:\n",
    "        l -= 1\n",
    "        r += 1\n",
    "    \"\"\"\n",
    "    We do the l + 1 below because after the loop because both l and r have moved one step too far\n",
    "        so to get the correct substring\n",
    "    The end index r is already one position past the end of the palindrome,\n",
    "        which aligns with Python's slicing syntax where the end index is exclusive.\n",
    "    \"\"\"\n",
    "    return s[ l + 1 : r ] # return the longest substring palindrome\n",
    "\n",
    "print(\"first:\",longestPalindrome(\"maddam\"))\n",
    "print(\"second: \",longestPalindrome(\"madam\"))\n"
   ]
  },
  {
   "cell_type": "code",
   "execution_count": null,
   "metadata": {},
   "outputs": [],
   "source": []
  }
 ],
 "metadata": {
  "kernelspec": {
   "display_name": "AI_env",
   "language": "python",
   "name": "python3"
  },
  "language_info": {
   "codemirror_mode": {
    "name": "ipython",
    "version": 3
   },
   "file_extension": ".py",
   "mimetype": "text/x-python",
   "name": "python",
   "nbconvert_exporter": "python",
   "pygments_lexer": "ipython3",
   "version": "3.10.13"
  }
 },
 "nbformat": 4,
 "nbformat_minor": 2
}
