{
 "cells": [
  {
   "cell_type": "markdown",
   "metadata": {},
   "source": [
    "## Median Of Two Sorted Arrays\n",
    "\n",
    "Given two sorted arrays `nums1` and `nums2` of size `m` and `n` respectively return the `median` of the two sorted arrays.\n",
    "\n",
    "The overall time complexity should be `O(log (m+n))`.\n",
    "\n",
    "Input: nums1 = [1, 3], nums2 = [2]   \n",
    "output: 2.0000  \n",
    "Explanation: merged array = [1, 2, 3] and median is 2."
   ]
  },
  {
   "cell_type": "code",
   "execution_count": 33,
   "metadata": {},
   "outputs": [
    {
     "data": {
      "text/plain": [
       "2.5"
      ]
     },
     "execution_count": 33,
     "metadata": {},
     "output_type": "execute_result"
    }
   ],
   "source": [
    "# my solution\n",
    "def findMedianSortedArrays(nums1, nums2):\n",
    "    \"\"\"\n",
    "    :type nums1: List[int]\n",
    "    :type nums2: List[int]\n",
    "    :rtype: float\n",
    "    \"\"\"\n",
    "    # combine the two sorted arrays\n",
    "    arr = nums1 + nums2\n",
    "    # use quicksort to sort the new array\n",
    "    def quickSort(arr):\n",
    "        if len(arr) <= 1:\n",
    "            return arr\n",
    "        pivot = arr.pop()\n",
    "        items_greater = []\n",
    "        items_less = []\n",
    "        for item in arr:\n",
    "            if item > pivot:\n",
    "                items_greater.append(item)\n",
    "            else:\n",
    "                items_less.append(item)\n",
    "        return quickSort(items_less) + [pivot] + quickSort(items_greater)\n",
    "    \n",
    "    sortedArr =  quickSort(arr)\n",
    "    # check how to get the medium depending on the len of the arr\n",
    "    if len(sortedArr) % 2 != 0: # if its an odd length array\n",
    "        return sortedArr[len(sortedArr)//2]\n",
    "    else: # if its an even length array\n",
    "        middleNumOne = sortedArr[len(sortedArr)//2 - 1]\n",
    "        middleNumTwo = sortedArr[len(sortedArr)//2]\n",
    "        return (middleNumOne + middleNumTwo) / 2\n",
    "    \n",
    "findMedianSortedArrays([1, 2], [3, 4])"
   ]
  },
  {
   "cell_type": "markdown",
   "metadata": {},
   "source": []
  },
  {
   "cell_type": "markdown",
   "metadata": {},
   "source": [
    "#### Not mine solution and faster"
   ]
  },
  {
   "cell_type": "code",
   "execution_count": 34,
   "metadata": {},
   "outputs": [
    {
     "data": {
      "text/plain": [
       "2.5"
      ]
     },
     "execution_count": 34,
     "metadata": {},
     "output_type": "execute_result"
    }
   ],
   "source": [
    "def findMedianSortedArrays(nums1, nums2):\n",
    "    m, n = len(nums1), len(nums2)\n",
    "    p1, p2 = 0, 0\n",
    "\n",
    "    # Get the smaller value between nums1[p1] and nums2[p2].\n",
    "    def get_min():\n",
    "        nonlocal p1, p2\n",
    "        if p1 < m and p2 < n:\n",
    "            if nums1[p1] < nums2[p2]:\n",
    "                ans = nums1[p1]\n",
    "                p1 += 1\n",
    "            else:\n",
    "                ans = nums2[p2]\n",
    "                p2 += 1\n",
    "        elif p2 == n:\n",
    "            ans = nums1[p1]\n",
    "            p1 += 1\n",
    "        else:\n",
    "            ans = nums2[p2]\n",
    "            p2 += 1\n",
    "        return ans\n",
    "\n",
    "    if (m + n) % 2 == 0:\n",
    "        for _ in range((m + n) // 2 - 1):\n",
    "            _ = get_min()\n",
    "        return (get_min() + get_min()) / 2\n",
    "    else:\n",
    "        for _ in range((m + n) // 2):\n",
    "            _ = get_min()\n",
    "        return get_min()\n",
    "    \n",
    "findMedianSortedArrays([1, 2], [3, 4])"
   ]
  },
  {
   "cell_type": "code",
   "execution_count": null,
   "metadata": {},
   "outputs": [],
   "source": []
  }
 ],
 "metadata": {
  "kernelspec": {
   "display_name": "AI_env",
   "language": "python",
   "name": "python3"
  },
  "language_info": {
   "codemirror_mode": {
    "name": "ipython",
    "version": 3
   },
   "file_extension": ".py",
   "mimetype": "text/x-python",
   "name": "python",
   "nbconvert_exporter": "python",
   "pygments_lexer": "ipython3",
   "version": "3.10.13"
  }
 },
 "nbformat": 4,
 "nbformat_minor": 2
}
