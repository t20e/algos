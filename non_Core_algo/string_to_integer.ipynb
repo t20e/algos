{
 "cells": [
  {
   "cell_type": "markdown",
   "metadata": {},
   "source": [
    "### String To Integer\n",
    "\n",
    "<img src=\"../imgs/String To Integer-1.png\" alt=\"drawing\" width=\"400\"/>\n",
    "<img src=\"../imgs/String To Integer-2.png\" alt=\"drawing\" width=\"400\"/>\n",
    "<img src=\"../imgs/String To Integer-3.png\" alt=\"drawing\" width=\"400\"/>\n",
    "\n"
   ]
  },
  {
   "cell_type": "code",
   "execution_count": 23,
   "metadata": {},
   "outputs": [
    {
     "data": {
      "text/plain": [
       "-42"
      ]
     },
     "execution_count": 23,
     "metadata": {},
     "output_type": "execute_result"
    }
   ],
   "source": [
    "def myAtoi(s):\n",
    "    \"\"\"\n",
    "    :type s: str\n",
    "    :rtype: int\n",
    "    \"\"\"\n",
    "    MIN, MAX = -2 ** 31, 2 ** 31 - 1\n",
    "    n, empty, sign = 0, True, 1  # empty denotes we have not seen any number, sign is -1 or 1\n",
    "    for char in s:\n",
    "        if empty:\n",
    "            if char == ' ': continue  # ignore the leading whitespace\n",
    "            elif char == '-': sign = -1  # final answer is a negative number\n",
    "            elif char.isdigit(): n = int(char)  # the first digit of number\n",
    "            elif char != '+': return 0  # the first char is not a digit and not in (' ', '+', '-'), so s is invalid\n",
    "            empty = False  # the first char is a digit or '+' or '-', valid number starts\n",
    "        else:\n",
    "            if char.isdigit():\n",
    "                n = n * 10 + int(char)\n",
    "                if sign * n > MAX: return MAX\n",
    "                elif sign * n < MIN: return MIN\n",
    "            else: break   # end of valid number\n",
    "    return sign * n  # sign is 1 or -1 \n",
    "\n",
    "\n",
    "\n",
    "myAtoi(\" -042\") # return -42 as integer"
   ]
  },
  {
   "cell_type": "code",
   "execution_count": 15,
   "metadata": {},
   "outputs": [
    {
     "name": "stdout",
     "output_type": "stream",
     "text": [
      ":no\n"
     ]
    }
   ],
   "source": [
    "i = \"s21\"\n",
    "try:\n",
    "    int(i)\n",
    "except ValueError:\n",
    "    print(\":no\")"
   ]
  },
  {
   "cell_type": "code",
   "execution_count": null,
   "metadata": {},
   "outputs": [],
   "source": []
  }
 ],
 "metadata": {
  "kernelspec": {
   "display_name": "AI_env",
   "language": "python",
   "name": "python3"
  },
  "language_info": {
   "codemirror_mode": {
    "name": "ipython",
    "version": 3
   },
   "file_extension": ".py",
   "mimetype": "text/x-python",
   "name": "python",
   "nbconvert_exporter": "python",
   "pygments_lexer": "ipython3",
   "version": "3.10.13"
  }
 },
 "nbformat": 4,
 "nbformat_minor": 2
}
