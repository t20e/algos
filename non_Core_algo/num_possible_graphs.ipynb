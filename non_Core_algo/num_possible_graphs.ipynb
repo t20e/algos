{
 "cells": [
  {
   "cell_type": "markdown",
   "metadata": {},
   "source": [
    "Calculate the number of possible graphs with a given number of vertices, assuming no loops or multiple edges:\n",
    "\n",
    "\n",
    "![alt text](./imgs/4-graphs-vertices.png)\n"
   ]
  },
  {
   "cell_type": "code",
   "execution_count": 1,
   "metadata": {},
   "outputs": [],
   "source": [
    "def combinations(n, k):\n",
    "    \"\"\"Calculate the number of combinations of k items from n\"\"\"\n",
    "    numerator = 1\n",
    "    denominator = 1\n",
    "    for i in range(n, n - k, -1):\n",
    "        numerator *= i\n",
    "    for i in range(1, k + 1):\n",
    "        denominator *= i\n",
    "    return numerator // denominator\n",
    "\n",
    "def num_possible_graphs(n):\n",
    "    num_edges = combinations(n, 2)  # Number of possible edges\n",
    "    num_graphs = 2 ** num_edges  # Number of possible graphs\n",
    "    return num_graphs"
   ]
  },
  {
   "cell_type": "code",
   "execution_count": 21,
   "metadata": {},
   "outputs": [
    {
     "name": "stdout",
     "output_type": "stream",
     "text": [
      "Number of possible graphs with 4 vertices: 64\n"
     ]
    }
   ],
   "source": [
    "n = 4\n",
    "print(f\"Number of possible graphs with {n} vertices: {num_possible_graphs(n)}\")"
   ]
  },
  {
   "cell_type": "code",
   "execution_count": 22,
   "metadata": {},
   "outputs": [
    {
     "name": "stdout",
     "output_type": "stream",
     "text": [
      "1\n",
      "4\n"
     ]
    }
   ],
   "source": [
    "numerator = 1\n",
    "for i in range(n, n - 2, -1):\n",
    "    print(numerator)\n",
    "    numerator *= i\n",
    "# numerator"
   ]
  },
  {
   "cell_type": "code",
   "execution_count": 23,
   "metadata": {},
   "outputs": [
    {
     "name": "stdout",
     "output_type": "stream",
     "text": [
      "1\n",
      "1\n"
     ]
    },
    {
     "data": {
      "text/plain": [
       "2"
      ]
     },
     "execution_count": 23,
     "metadata": {},
     "output_type": "execute_result"
    }
   ],
   "source": [
    "denominator = 1\n",
    "for i in range(1, 2 + 1):\n",
    "    print(denominator)\n",
    "    denominator *= i\n",
    "denominator"
   ]
  },
  {
   "cell_type": "code",
   "execution_count": 15,
   "metadata": {},
   "outputs": [
    {
     "data": {
      "text/plain": [
       "6"
      ]
     },
     "execution_count": 15,
     "metadata": {},
     "output_type": "execute_result"
    }
   ],
   "source": [
    "numerator//denominator"
   ]
  },
  {
   "cell_type": "code",
   "execution_count": 16,
   "metadata": {},
   "outputs": [
    {
     "data": {
      "text/plain": [
       "64"
      ]
     },
     "execution_count": 16,
     "metadata": {},
     "output_type": "execute_result"
    }
   ],
   "source": [
    "2 ** (numerator//denominator)"
   ]
  },
  {
   "cell_type": "code",
   "execution_count": null,
   "metadata": {},
   "outputs": [],
   "source": []
  }
 ],
 "metadata": {
  "kernelspec": {
   "display_name": "AI_env",
   "language": "python",
   "name": "python3"
  },
  "language_info": {
   "codemirror_mode": {
    "name": "ipython",
    "version": 3
   },
   "file_extension": ".py",
   "mimetype": "text/x-python",
   "name": "python",
   "nbconvert_exporter": "python",
   "pygments_lexer": "ipython3",
   "version": "3.10.13"
  }
 },
 "nbformat": 4,
 "nbformat_minor": 2
}
