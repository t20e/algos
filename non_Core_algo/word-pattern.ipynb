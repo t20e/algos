{
 "cells": [
  {
   "cell_type": "markdown",
   "metadata": {},
   "source": [
    "### Word Pattern\n",
    "\n",
    "<img src=\"../imgs/word-pattern.png\" alt=\"drawing\" width=\"500\"/>"
   ]
  },
  {
   "cell_type": "code",
   "execution_count": 21,
   "metadata": {},
   "outputs": [
    {
     "name": "stdout",
     "output_type": "stream",
     "text": [
      "0\n",
      "here\n",
      "0\n",
      "1\n",
      "here\n",
      "1\n",
      "1\n",
      "here\n",
      "1\n",
      "0\n",
      "here\n",
      "0\n",
      "True\n"
     ]
    }
   ],
   "source": [
    "def wordPattern( pattern, s):\n",
    "    \"\"\"\n",
    "    :type pattern: str\n",
    "    :type s: str\n",
    "    :rtype: bool\n",
    "    \"\"\"\n",
    "    # split the strings into their spots\n",
    "    splitArr = s.split()\n",
    "\n",
    "    if len(splitArr) != len(pattern):\n",
    "        return False\n",
    "    \n",
    "    for i in range(len(splitArr)):\n",
    "        if pattern.index(pattern[i]) != splitArr.index(splitArr[i]):\n",
    "            return False\n",
    "    return True\n",
    "\n",
    "\n",
    "print(\n",
    "    # wordPattern(pattern=\"aaba\", s=\"dog cat cat dog\"), \n",
    "    wordPattern(pattern=\"abba\", s=\"dog cat cat dog\")\n",
    ")\n"
   ]
  },
  {
   "cell_type": "code",
   "execution_count": 9,
   "metadata": {},
   "outputs": [
    {
     "data": {
      "text/plain": [
       "2"
      ]
     },
     "execution_count": 9,
     "metadata": {},
     "output_type": "execute_result"
    }
   ],
   "source": [
    "s = \"asdasd\"\n",
    "s.index(\"d\")"
   ]
  },
  {
   "cell_type": "code",
   "execution_count": null,
   "metadata": {},
   "outputs": [],
   "source": []
  }
 ],
 "metadata": {
  "kernelspec": {
   "display_name": "AI_env",
   "language": "python",
   "name": "python3"
  },
  "language_info": {
   "codemirror_mode": {
    "name": "ipython",
    "version": 3
   },
   "file_extension": ".py",
   "mimetype": "text/x-python",
   "name": "python",
   "nbconvert_exporter": "python",
   "pygments_lexer": "ipython3",
   "version": "3.10.13"
  }
 },
 "nbformat": 4,
 "nbformat_minor": 2
}
