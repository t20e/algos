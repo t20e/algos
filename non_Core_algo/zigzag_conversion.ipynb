{
 "cells": [
  {
   "cell_type": "markdown",
   "metadata": {},
   "source": [
    "### Zigzag Conversion\n",
    "\n",
    "![alt text](../imgs/Screenshot%202024-05-09%20at%2013.56.03.png \"Title\")\n"
   ]
  },
  {
   "cell_type": "code",
   "execution_count": 28,
   "metadata": {},
   "outputs": [
    {
     "data": {
      "text/plain": [
       "'PAHNAPLSIIGYIR'"
      ]
     },
     "execution_count": 28,
     "metadata": {},
     "output_type": "execute_result"
    }
   ],
   "source": [
    "def convert(s, numRows):\n",
    "        \"\"\"\n",
    "        :type s: str\n",
    "        :type numRows: int\n",
    "        :rtype: str\n",
    "        \"\"\"\n",
    "        if numRows == 1 or numRows >= len(s):\n",
    "            return s\n",
    "        \n",
    "        rows = [[] for row in range(numRows)]\n",
    "        index = 0\n",
    "        step = -1\n",
    "        for char in s:\n",
    "            rows[index].append(char)\n",
    "            if index == 0:\n",
    "                step = 1\n",
    "            elif index == numRows - 1:\n",
    "                step = -1\n",
    "            index += step\n",
    "\n",
    "        for i in range(numRows):\n",
    "            rows[i] = ''.join(rows[i])\n",
    "        return ''.join(rows)\n",
    "\n",
    "\n",
    "s = \"PAYPALISHIRING\"\n",
    "numRows = 3\n",
    "convert(s, numRows)"
   ]
  },
  {
   "cell_type": "markdown",
   "metadata": {},
   "source": [
    "<b>Hint:</b>\n",
    "\n",
    "<img src=\"../imgs/example-to-sovle-zig-zag.png\" alt=\"drawing\" width=\"400\"/>\n"
   ]
  },
  {
   "cell_type": "code",
   "execution_count": null,
   "metadata": {},
   "outputs": [],
   "source": []
  }
 ],
 "metadata": {
  "kernelspec": {
   "display_name": "AI_env",
   "language": "python",
   "name": "python3"
  },
  "language_info": {
   "codemirror_mode": {
    "name": "ipython",
    "version": 3
   },
   "file_extension": ".py",
   "mimetype": "text/x-python",
   "name": "python",
   "nbconvert_exporter": "python",
   "pygments_lexer": "ipython3",
   "version": "3.10.13"
  }
 },
 "nbformat": 4,
 "nbformat_minor": 2
}
