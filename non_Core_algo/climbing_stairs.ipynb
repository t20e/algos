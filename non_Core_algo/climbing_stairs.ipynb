{
 "cells": [
  {
   "cell_type": "markdown",
   "metadata": {},
   "source": [
    "# Climbing Stairs\n",
    "\n",
    "You are climbing a staircase. It takes `n` steps to reach the top.\n",
    "\n",
    "Each time you can either climb 1 or 2 steps. In how many distinct ways can you climb to the top?\n",
    "\n",
    "Example 1:\n",
    "\n",
    "Input: n = 2  \n",
    "Output: 2  \n",
    "Explanation: There are two ways to climb to the top.  \n",
    "1. 1 step + 1 step  \n",
    "2. 2 steps  \n",
    "\n",
    "Example 2:  \n",
    "Input: n = 3  \n",
    "Output: 3  \n",
    "Explanation: There are three ways to climb to the top.  \n",
    "1. 1 step + 1 step + 1 step  \n",
    "2. 1 step + 2 steps  \n",
    "3. 2 steps + 1 step  "
   ]
  },
  {
   "cell_type": "markdown",
   "metadata": {},
   "source": [
    "### Using Decision Tree\n",
    "\n",
    "Non-Memoization:\n",
    "* Time Complexity: O(2^n)\n",
    "\n",
    "Memoization:\n",
    "* Time Complexity: O(n)\n",
    "\n",
    "`Memoization`: is when u notice that an algorithm is repeatedly computing the same problem and u can make it more efficient by remembering the computation that way u wont have to recompute.\n",
    "\n",
    "\n",
    "<a href=\"https://www.youtube.com/watch?v=Y0lT9Fck7qI&list=PLaYwRg-0fQX-3jMxJKBwuGBDJ8I4dL5JV\">Tutorial</a>\n",
    "\n"
   ]
  },
  {
   "cell_type": "markdown",
   "metadata": {},
   "source": [
    "### Another way\n",
    "\n",
    "`Bottom-Up solution`\n",
    "\n",
    "The index at the array is the sum of the next two index's amounts\n",
    "\n",
    "i.e array[3] = array[4] + array[5]\n",
    "\n",
    "<img style=\"width:400px\" src=\"../imgs/climbingStairs.png\">"
   ]
  },
  {
   "cell_type": "code",
   "execution_count": 2,
   "metadata": {},
   "outputs": [
    {
     "data": {
      "text/plain": [
       "8"
      ]
     },
     "execution_count": 2,
     "metadata": {},
     "output_type": "execute_result"
    }
   ],
   "source": [
    "def climbingStairs(n: int )-> int:\n",
    "    # the end results of the arrays always have the patterns of the last two indexes having values of 1, 1 look at chart above\n",
    "    one, two = 1, 1\n",
    "\n",
    "    for i in range(n - 1):\n",
    "        temp = one\n",
    "        one = one + two\n",
    "        two = temp\n",
    "    return one\n",
    "\n",
    "climbingStairs(5)"
   ]
  },
  {
   "cell_type": "markdown",
   "metadata": {},
   "source": [
    "### Another way"
   ]
  },
  {
   "cell_type": "code",
   "execution_count": null,
   "metadata": {},
   "outputs": [],
   "source": [
    "def climbStairs(n):\n",
    "    \"\"\"\n",
    "    :type n: int\n",
    "    :rtype: int\n",
    "    \"\"\"\n",
    "    ways = 1\n",
    "    for i in range(1, (n // 2) + 1):\n",
    "        print(\"New\")\n",
    "        product = 1\n",
    "\n",
    "        for j in range(i, 2 * i):\n",
    "            product *= (n - j) / (j - i + 1)\n",
    "            print(product)\n",
    "        \n",
    "        ways += product\n",
    "    \n",
    "    return int(ways)\n",
    "        \n",
    "climbStairs(9)"
   ]
  }
 ],
 "metadata": {
  "kernelspec": {
   "display_name": "AI_env",
   "language": "python",
   "name": "python3"
  },
  "language_info": {
   "codemirror_mode": {
    "name": "ipython",
    "version": 3
   },
   "file_extension": ".py",
   "mimetype": "text/x-python",
   "name": "python",
   "nbconvert_exporter": "python",
   "pygments_lexer": "ipython3",
   "version": "3.10.13"
  }
 },
 "nbformat": 4,
 "nbformat_minor": 2
}
