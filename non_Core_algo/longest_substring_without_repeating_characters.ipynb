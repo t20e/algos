{
 "cells": [
  {
   "cell_type": "markdown",
   "metadata": {},
   "source": [
    "## Longest Substring Without Repeating Characters\n",
    "\n",
    "Input: \"abcabcbb\"  \n",
    "Output: 3  \n",
    "Explanation: The answer is \"abc\", which is the length of 3. Their are other substrings like bca etc.. they are all length of 3.\n",
    "\n",
    "Time: O(N)  \n",
    "Space: O(N)"
   ]
  },
  {
   "cell_type": "code",
   "execution_count": 1,
   "metadata": {},
   "outputs": [],
   "source": [
    "def longestSub(s: str)-> int:\n",
    "    charSet = set()\n",
    "    res = 0\n",
    "    # using a sliding window\n",
    "    l = 0 # left pointer\n",
    "    for r in range(len(s)): # r is our right pointer\n",
    "        # if we get a repeated character then update the set\n",
    "        while s[r] in charSet:\n",
    "            charSet.remove(s[l]) # remove the left character from the set\n",
    "            l += 1 # increment the left pointer, and repeat it while that repeated character remains in the set\n",
    "        \n",
    "        charSet.add(s[r]) # add the right character\n",
    "        res = max(res, r - l + 1)\n",
    "    return res"
   ]
  },
  {
   "cell_type": "code",
   "execution_count": 2,
   "metadata": {},
   "outputs": [
    {
     "data": {
      "text/plain": [
       "3"
      ]
     },
     "execution_count": 2,
     "metadata": {},
     "output_type": "execute_result"
    }
   ],
   "source": [
    "str = \"abcabcbb\"\n",
    "# str = \"ababbc\"\n",
    "longestSub(str)"
   ]
  },
  {
   "cell_type": "code",
   "execution_count": null,
   "metadata": {},
   "outputs": [],
   "source": []
  }
 ],
 "metadata": {
  "kernelspec": {
   "display_name": "AI_env",
   "language": "python",
   "name": "python3"
  },
  "language_info": {
   "codemirror_mode": {
    "name": "ipython",
    "version": 3
   },
   "file_extension": ".py",
   "mimetype": "text/x-python",
   "name": "python",
   "nbconvert_exporter": "python",
   "pygments_lexer": "ipython3",
   "version": "3.10.13"
  }
 },
 "nbformat": 4,
 "nbformat_minor": 2
}
