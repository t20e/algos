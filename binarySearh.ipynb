{
 "cells": [
  {
   "cell_type": "markdown",
   "metadata": {},
   "source": [
    "# Binary Search:"
   ]
  },
  {
   "cell_type": "markdown",
   "metadata": {},
   "source": [
    "Find if a value is in array return its index else return -1\n",
    "* the input array is sorted\n",
    "* since the array is sorted we can slice the array to always look at a smaller array, example if the middle number is less than the target number than only at the array from the middle to the right\n",
    "* use two pointers to divide and conquer the array \n",
    "* if the item at the middle of the array is < or > the target then only look in that direction"
   ]
  },
  {
   "cell_type": "markdown",
   "metadata": {},
   "source": [
    "#### Big O Notation\n",
    "* time O(log(n)) \n",
    "* space O(1)"
   ]
  },
  {
   "cell_type": "code",
   "execution_count": 1,
   "metadata": {},
   "outputs": [],
   "source": [
    "array = [-34, -3, 2, 5, 12, 45, 67, 234]"
   ]
  },
  {
   "cell_type": "code",
   "execution_count": 2,
   "metadata": {},
   "outputs": [],
   "source": [
    "def binary_search(arr, target):\n",
    "    # set left and right to be between the length of the array\n",
    "    left, right = 0, len(arr) - 1\n",
    "    while left <= right:\n",
    "        # get the middle between two pointers\n",
    "        middle = (left + right)//2\n",
    "        # if the number at the middle of the array is > or < that slice the array and only look in that direction\n",
    "        if arr[middle] > n: # if target > middle move the right pointer to the middle\n",
    "            right = middle - 1\n",
    "        elif arr[middle] < target: # if target < middle move the left pointer to the middle\n",
    "            left = middle + 1\n",
    "        else:\n",
    "            return middle  # return its index when the above condition dont match\n",
    "    return -1 # item not in array"
   ]
  },
  {
   "cell_type": "code",
   "execution_count": 9,
   "metadata": {},
   "outputs": [
    {
     "name": "stdout",
     "output_type": "stream",
     "text": [
      "3\n"
     ]
    }
   ],
   "source": [
    "print(binary_search(array, 5))"
   ]
  },
  {
   "cell_type": "code",
   "execution_count": null,
   "metadata": {},
   "outputs": [],
   "source": []
  }
 ],
 "metadata": {
  "kernelspec": {
   "display_name": "AI_env",
   "language": "python",
   "name": "python3"
  },
  "language_info": {
   "codemirror_mode": {
    "name": "ipython",
    "version": 3
   },
   "file_extension": ".py",
   "mimetype": "text/x-python",
   "name": "python",
   "nbconvert_exporter": "python",
   "pygments_lexer": "ipython3",
   "version": "3.10.13"
  }
 },
 "nbformat": 4,
 "nbformat_minor": 2
}
