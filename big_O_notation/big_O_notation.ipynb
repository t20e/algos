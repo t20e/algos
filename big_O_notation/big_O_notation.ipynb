{
 "cells": [
  {
   "cell_type": "markdown",
   "metadata": {},
   "source": [
    "# Big O Notation"
   ]
  },
  {
   "cell_type": "markdown",
   "metadata": {},
   "source": [
    "Simplified analysis of an algorithms efficiency\n",
    "\n",
    "<b>Big O gives us:</b>\n",
    "1. an algorithms complexity in terms of input size, N\n",
    "2. gives us a way to abstract the efficiency of the algorithm/code from the machines they run on\n",
    "3. we don't care about the the stats of the machines rather we examine the basic computer steps of the code\n",
    "\n",
    "In big O notation we typically only care for worst case\n",
    "\n",
    "<b>General Rules:</b>\n",
    "1. ignore constants\n",
    "    1. example if we have function 5*n -> O(n), in this case as n grows larger the 5 no longer matters.\n",
    "2. certain terms dominates others\n",
    "    1. ignore low order terms when they are dominated by higher order ones\n"
   ]
  },
  {
   "cell_type": "markdown",
   "metadata": {},
   "source": [
    "![alt text](img.png)\n"
   ]
  },
  {
   "cell_type": "markdown",
   "metadata": {},
   "source": [
    "<b>Constant Time</b>   \n",
    "\n",
    "O(1) -> \"big O of one\" or constant time\n",
    "\n",
    "```Python\n",
    "# All these are constant times\n",
    "x = 5 + (15 * 20) # O(1)\n",
    "y = 15 - 2 # O(1)\n",
    "print(x + y) # O(1)\n",
    "# Since we drop constants its total time is just one O(1)\n",
    "total_time = O(1) + O(1) + O(1) =  O(1) \n",
    "```"
   ]
  },
  {
   "cell_type": "markdown",
   "metadata": {},
   "source": [
    "<b>Linear Time</b>\n",
    "\n",
    "```Python\n",
    "# this block of code is N * O(1)\n",
    "for x in range(0, n):\n",
    "    print(x) # O(1)\n",
    "```\n",
    "\n",
    "```Python\n",
    "y = 5 + (15 * 20) # O(1)\n",
    "for x in range(0, n): # O(N)\n",
    "    print(x) \n",
    "# Since we drop constants its total time is just O(n)\n",
    "total_time = O(1) + O(n) = O(n)\n",
    "```"
   ]
  },
  {
   "cell_type": "markdown",
   "metadata": {},
   "source": [
    "<b>Quadratic Time</b>\n",
    "\n",
    "This block of code is O(n<sup>2</sup>)\n",
    "```Python\n",
    "for x in range(0, n):\n",
    "    for y in range(0, n):\n",
    "        print(x * y) # O(1)\n",
    "```"
   ]
  },
  {
   "cell_type": "markdown",
   "metadata": {},
   "source": [
    "<b>Example determine Big O Notation</b>\n",
    "\n",
    "```Python\n",
    "x = 5 + (15 * 20) # O(1)\n",
    "# O(b)\n",
    "for x in range(0, n):\n",
    "    print(x) # O(1)\n",
    "# O(n^2)\n",
    "for x in range(0, n):\n",
    "    for y in range(0, n):\n",
    "        print(x * y) # O(1)\n",
    "# the total time is the max of the 3\n",
    "total_time = O(n^2)\n",
    "```\n"
   ]
  },
  {
   "cell_type": "code",
   "execution_count": null,
   "metadata": {},
   "outputs": [],
   "source": []
  },
  {
   "cell_type": "markdown",
   "metadata": {},
   "source": [
    "#### older"
   ]
  },
  {
   "cell_type": "markdown",
   "metadata": {},
   "source": [
    "<b>Purpose</b>: analyze the efficiency of an algorithm as its input approaches infinity\n",
    "its checks space ( memory used ) and time taken to compute a function by an algorithm\n",
    "when determining the efficiency of an algorithm we only care about the WORST CASE\n",
    "best case. \n",
    "\n",
    "When we compared for worst case we always compared when N (the input data) is as big as possible, because thats when algos start to degrade\n",
    "\n",
    "All algos are mostly executed on computer systems using Princeton architecture, these are like phones, desktops, laptop, tablets, etc.  \n",
    "\n",
    "Algos consists of individual processor operations(called steps), that take the same time to execute\n",
    "1. thats why we can measure an algos running time in processors operations instead of seconds, this is because other computers take longer to execute an algo than a modern computer, but the big 0 notation will be the same, this type of time measurement is called DTIME or simply TIME. \n",
    "2. DTIME represents the number of computation steps that a computer would take to solve a certain computational problem with an algo TIME complexity is a function that That represents dependency between input data size and number of processor operations required for the algorithm to compete complete.  \n",
    "\n",
    "T(N) = dependency_formula  where N is the size of the input data\n",
    "* operations that take 1 operation\n",
    "* creating boolean, char, short, int, double, float\n",
    "* comparison operations like >=, != , ==, <=, <\n",
    "* arithmetic operations like +, - , ||, &&, &, *, /\n",
    "* return in from function\n",
    "\n",
    "Loop Complexity Formula:\n",
    "* 1 + N + N + N * ( loop body operations count)\n",
    "* the 1 os creating the variable that will loop such as for(int i = 1)\n",
    "* the first N is N comparison operations such as i <= n in for loop constructor\n",
    "* the second N is N increment operations such as i++ in loop constructor\n",
    "* the third N is N loop for body operations\n",
    "* since we only care about worst case we can instead use the following algo for this N *( loop body operations count)"
   ]
  },
  {
   "cell_type": "markdown",
   "metadata": {},
   "source": [
    "##### EXAMPLE:\n",
    "```Python\n",
    "def foo(int):\n",
    "    temp = int + 1 #  variable initialized  1 operation  \n",
    "    \"\"\"\n",
    "    altogether complexity is \n",
    "                addition: 1 operation \n",
    "                division: 1 operation\n",
    "                return:   1 operation\n",
    "        T(N)=1+1+1+1  for each operations\n",
    "    \"\"\"\n",
    "    return temp/2\n",
    "```\n",
    "##### ANOTHER EXAMPLE\n",
    "```Java\n",
    "int Foo(int n){\n",
    "    int x = 0; //creating a variable takes 1 operation\n",
    "    for (int i = 1; i<=n;i++){\n",
    "        //     creating var i takes 1 operation\n",
    "        //     check to see if i <=n takes N comparison operations for loop: N\n",
    "        // incrementing i will take N increment operations: N\n",
    "        x++;\n",
    "        // incrementing X will take 1 operation N times: N * 1\n",
    "    }\n",
    "    return x;//  returning will take 1 operation\n",
    "}\n",
    "```\n",
    "algo complexity = T(N) = 1 + 1 + N + N + N * 1 + 1 = 3 + 3 * N\n",
    "    this means the algo is depend on the N input"
   ]
  },
  {
   "cell_type": "markdown",
   "metadata": {},
   "source": [
    "### An example of a file transfer:  \n",
    "<i>FILE transfer depends on its size as a function  </i>\n",
    "> f(N) = dependency_formula  \n",
    "* where dependency_formula is a formula that describes dependency between number of bytes and transfer time\n",
    "* when transferring over internet: the more bytes the longer it takes to transfer  \n",
    "> F1(N) = N which is linear time\n",
    "* when transfer file by plane file size doesn't matter  \n",
    "> f2(N) = 1 which is constant time"
   ]
  },
  {
   "cell_type": "markdown",
   "metadata": {},
   "source": [
    "### Determining Big O Notation\n",
    "* For sequence of actions use addition like two next to each other loops  \n",
    "> N + N=  O(N)\n",
    "* For nested actions use multiplication like nested loops  \n",
    "> N * N = O(N^2)\n",
    "* If we are only processing half of the data then we did the previous iteration inside a loop  \n",
    "> O(logN)\n",
    "* To calculate recursive call stack use formula  \n",
    "> O(single Call Complexity) * O(calls number ^ levels number)  \n",
    "<i>levels number is how many calls stacks are going to be called</i>\n"
   ]
  },
  {
   "cell_type": "markdown",
   "metadata": {},
   "source": [
    "### Time Complexity's Notations Below From Best First To Worst Last:\n",
    "<i>Big O Notation\tName Example(s)</i>\n",
    "* O(1) Constant time, Odd or Even number, Look-up table (on average)\n",
    "* O(log n) Logarithmic  Finding element on sorted array with binary search\n",
    "* O(n) Linear time: the time complexity increases with increasing the input data\n",
    "* O(n log(n) ) Logarithmic  Sorting elements in array with merge sort\n",
    "* O(n2) Quadratic  Duplicate elements in array **(naïve)**,\n",
    "         Sorting array with bubble sort\n",
    "* O(n3) Cubic 3 variables equation solver\n",
    "* O(2n) Exponential  Find all subsets\n",
    "* O(n!) Factorial  Find all permutations of a given set/string"
   ]
  },
  {
   "cell_type": "markdown",
   "metadata": {},
   "source": [
    "### Time Complexity Types:\n",
    "1. linear time complexity: O(n)\n",
    "> n is the size of the input like length of array as n(the number of items in array) gets bigger so does the time it takes to iterate over all items in the array\n",
    "\n",
    "2. constant time complexity: O(1)\n",
    "> constant time: means that the algo or equation will always take the same amount of time to compute constant time do not matter and isn't calculated in the final 0 notations we ignore constants (constant time)\n",
    "3. quadratic time complexity: O(n^2)\n",
    "> time complexity will begin to increase a lot more as the arr gets bigger/ input data increases"
   ]
  },
  {
   "cell_type": "markdown",
   "metadata": {},
   "source": [
    "### More Time Examples:\n",
    "T1(N) = 2 * N^2 + 2 * N + 55\n",
    "T2(N) = 999 * N+ 3 + ㏒(of)10=N\n",
    "> in-order to find which algo is faster T1 or T2, we need to compare values of these two functions for some N\n",
    "* algos with smaller function values will take less time to compute meaning it will be faster, and its complexity will lower\n",
    "* with small values of N algos execute fast, however as N grows the algo speed starts to degrade\n",
    "* when we compared for worst case we always compared when N (the input data) is as big as possible"
   ]
  },
  {
   "cell_type": "markdown",
   "metadata": {},
   "source": [
    "### Recursive Time Func Complexity:\n",
    "```Java\n",
    "int foo(int n){\n",
    "         if (n==1)return 1;\n",
    "         return n + foo(n-1);\n",
    "   }\n",
    "```\n",
    "single call complexity: O(1) unless the body of the function depends on N like a for loop etc...\n",
    "\n",
    "call stack calls look like foo(4) -> foo(3) -> foo(2) -> foo(1)\n",
    "```Java\n",
    "int foo(int n){\n",
    "        if (n==1)return 1;\n",
    "        return foo(n-1) + foo(n-1);\n",
    "    // this call stack will call two call stacks new call stack for every single call stack like a tree with two children\n",
    "}\n",
    "```\n",
    "\n",
    "T(N) = O(1)*O(2^L)  \n",
    "\n",
    "This formula only works when the call structure is more than one like return foo(n-1) + foo(n-1); so it wont work for return n + foo(n-1); this only makes a chain of calls\n",
    "* O(1) is a single call complex on the recursive call stack\n",
    "* L is the number of levels in the tree\n",
    "* 2 is the number of children nodes for every call stack because we are calling return foo(n-1) + foo(n-1);"
   ]
  },
  {
   "cell_type": "markdown",
   "metadata": {},
   "source": [
    "### Space Complexity:\n",
    "* for an interactive function space complexity is normally O(1)\n",
    "* for a recursive function space complexity is normally O(n)\n",
    "* they depend on other functions calls inside the recursive call stack like loops"
   ]
  },
  {
   "cell_type": "markdown",
   "metadata": {},
   "source": [
    "### Data Structure Complexity Chart\n",
    "\n",
    "<i><u>Average Case Time Complexity</u>  is for Access, Search, Insertion, and Deletion</i>\n",
    "\n",
    "|Data Structures     | Space Complexity | Access | Search | Insertion | Deletion |\n",
    "|--------------------|------------------|--------|--------|-----------|----------|\n",
    "|Array\t             | O(n)             |   O(1) |  O(n)  | O(n)      | O(n) |\n",
    "| Stack\t               | O(n)|\t          O(n)|\t     O(n)|\t       O(1)|       O(1)|\n",
    "| Queue|\t                O(n)|\t          O(n)|       O(n)|\t       O(1)|       O(1)|\n",
    "| Singly Linked List\t|O(n)|\t          O(n)|       O(n)|\t       O(1)|       O(1)|\n",
    "| Doubly Linked List| O(n)|\t          O(n)|       O(n)|\t       O(1)|       O(1)|\n",
    "| Hash Table|        O(n) |         N/A |    O(1)|\t       O(1)|       O(1)|\n",
    "| Binary Search Tree| O(n)|\t       O(log n)|    O(log n)|      O(log n)|   O(log n)|\n"
   ]
  },
  {
   "cell_type": "markdown",
   "metadata": {},
   "source": [
    "### Search Algorithms\n",
    "\n",
    "<i><u>Average Case Time Complexity</u>  is for Access, Search, Insertion, and Deletion</i>\n",
    "| Search Algorithms | Space Complexity| Best Case|   \tAverage Case|    \tWorst Case|\n",
    "|---|---|---|---|---|\n",
    "| Linear Search|\t        O(1)|\t           O(1)|\t            O(n)|\t            O(n)|\n",
    "|Binary Search\t        |O(1)|\t           O(1)|\t            O(log n)|\t        O(log n)|"
   ]
  },
  {
   "cell_type": "markdown",
   "metadata": {},
   "source": [
    "### Sorting Algorithms\n",
    "<i><u>Average Case Time Complexity</u>  is for Access, Search, Insertion, and Deletion</i>\n",
    "| Sorting Algorithms|\tSpace Complexity | Best Case|\t    Average Case|    \tWorst Case|\n",
    "| -|-|-|-|-|\n",
    "|Selection Sort|\t        O(1)\t|        O(n^2)|\t            O(n^2)\t|            O(n^2)|\n",
    "|Insertion Sort|\t        O(1)\t|        O(n)\t|            O(n^2)\t   |         O(n^2)|\n",
    "|Bubble Sort|\t            O(1)\t|        O(n)\t|            O(n^2)\t   |         O(n^2)|\n",
    "|Quick Sort|\t            O(log n)|        O(log n)|\t        O(n log(n) )  |       O(n log(n) )|\n",
    "|Merge Sort|\t            O(n)\t|        O(n)\t|            O(n log(n) )\t|        O(n log(n) )|\n",
    "|Heap Sort|\t                O(1)\t|        O(1)\t|            O(n log(n) )\t|        O(n log(n) )|\n",
    "\n"
   ]
  },
  {
   "cell_type": "markdown",
   "metadata": {},
   "source": [
    "### Complexity for Advanced Data Structures\n",
    "In the intermediate cheat sheet, we had seen a complexity chart for data structures. Let's see some more complex data structures and their complexities.\n",
    "\n",
    "<i><u>Average Case Time Complexity</u>  is for Access, Search, Insertion, and Deletion</i>\n",
    "| Data Structures|\tSpace Complexity\t| Access|\t    Search|\t        Insertion|\tDeletion|\n",
    "|-|-|-|-|-|-|\n",
    "|Skip List\t|            O(n log(n) )|\t     O(log n)|  \tO(log n)\t|     O(log n)       |  \tO(log n)|\n",
    "|Cartesian  |           Tree\t   |      O(n)\t  |    N/A\tO(log n)|\t O(log n)       |  \tO(log n)|\n",
    "|B-Tree\t    |        O(n)\t     |    O(log n)|  \tO(log n)\t|     O(log n)\t       |  O(log n)|\n",
    "|Red-Black Tree\t|    O(n)\t    |    O(log n)|  \tO(log n)\t|     O(log n)\t       |  O(log n)|\n",
    "|Splay Tree\t  |      O(n)\t    |     N/A\t  |    O(log n)\t    | O(log n)\t       |  O(log n)|\n",
    "|AVL Tree\t |           O(n)\t|         O(log n)\t|  O(log n)\t|     O(log n)       |  \tO(log n)|\n",
    "|KD Tree\t |           O(n)\t |        O(log n)\t|  O(log n)\t|     O(log n)\t       |  O(log n)|"
   ]
  },
  {
   "cell_type": "code",
   "execution_count": null,
   "metadata": {},
   "outputs": [],
   "source": []
  }
 ],
 "metadata": {
  "kernelspec": {
   "display_name": "AI_env",
   "language": "python",
   "name": "python3"
  },
  "language_info": {
   "codemirror_mode": {
    "name": "ipython",
    "version": 3
   },
   "file_extension": ".py",
   "mimetype": "text/x-python",
   "name": "python",
   "nbconvert_exporter": "python",
   "pygments_lexer": "ipython3",
   "version": "3.10.13"
  }
 },
 "nbformat": 4,
 "nbformat_minor": 2
}
