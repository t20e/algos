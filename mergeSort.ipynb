{
 "cells": [
  {
   "cell_type": "markdown",
   "metadata": {},
   "source": [
    "## Merge Sort\n",
    "\n",
    "Divide and conquer:   \n",
    "continuous divide array into sub arrays and sort the sub arrays then sort them together.\n",
    "\n",
    "\n",
    "Time  : O(n log(n))  \n",
    "Space : O(n log(n))  \n",
    "\n",
    "In the while loop we have to visit n items  \n",
    "The log(n) comes form the maximum height of the binary tree we create"
   ]
  },
  {
   "cell_type": "markdown",
   "metadata": {},
   "source": [
    "Solution:  \n",
    "1. divide the arr by middle\n",
    "2. we give all the way to the left sub calls stacks then move to the right calls stacks of recursion\n",
    "3. sample array = [5, 567, 76, 89, 67, 45, 45, 56, 67]\n",
    "    1. two_sub array = [5, 567, 76, 45] and [45, 47, 56, 45]\n",
    "    2. then four_sub array = [534, 57] [76, 45] [45, 47] [56, 45]\n",
    "    3. then 6 sub arr [534] [57] [76] [45] [45] [47] [56] [45]\n",
    "4. once we reach a sub array of length one then\n",
    "    create a new array by adding two arrays with length one and sort them\n",
    "    [57, 534] [45, 76] [45, 47] [45, 56]\n",
    "    create a new array by adding two arrays and sort them\n",
    "    [45,57, 76, 534] [45, 45, 47, 56]\n",
    "    [45,45, 45, 47, 56, 57, 76, 534 ]"
   ]
  },
  {
   "cell_type": "code",
   "execution_count": 2,
   "metadata": {},
   "outputs": [],
   "source": [
    "array = [34,2323, 123, 1,23, 34, 656, 234, 345, 45, 56, 56, 123, 546, 12, 34, 455, 12, 45, 45, 56, 23, 54, 5]"
   ]
  },
  {
   "cell_type": "code",
   "execution_count": 3,
   "metadata": {},
   "outputs": [
    {
     "data": {
      "text/plain": [
       "[1,\n",
       " 5,\n",
       " 12,\n",
       " 12,\n",
       " 23,\n",
       " 23,\n",
       " 34,\n",
       " 34,\n",
       " 34,\n",
       " 45,\n",
       " 45,\n",
       " 45,\n",
       " 54,\n",
       " 56,\n",
       " 56,\n",
       " 56,\n",
       " 123,\n",
       " 123,\n",
       " 234,\n",
       " 345,\n",
       " 455,\n",
       " 546,\n",
       " 656,\n",
       " 2323]"
      ]
     },
     "execution_count": 3,
     "metadata": {},
     "output_type": "execute_result"
    }
   ],
   "source": [
    "def mergeSort(arr):\n",
    "    if len(arr) == 1:  # when we have divided the array into only one item\n",
    "        return arr\n",
    "    middleIdx = len(arr) // 2\n",
    "    # divide the array into half's\n",
    "    leftHalf = arr[:middleIdx]\n",
    "    rightHalf = arr[middleIdx:]\n",
    "    # call the stacks to dived the new divided arrays\n",
    "    return sortHelper(mergeSort(leftHalf), mergeSort(rightHalf))  \n",
    "\n",
    "def sortHelper(leftHalf, rightHalf):\n",
    "    sortedArr = []\n",
    "    # i is the pointer of the left half arr\n",
    "    # j is the pointer of the right half arr\n",
    "    i = j = 0\n",
    "    # while those two pointers are not at the end of there arrays\n",
    "    while i < len(leftHalf) and j < len(rightHalf):\n",
    "        if leftHalf[i] <= rightHalf[j]:\n",
    "            sortedArr.append(leftHalf[i])\n",
    "            i += 1\n",
    "        else:\n",
    "            sortedArr.append(rightHalf[j])\n",
    "            j += 1\n",
    "    # add what ever was left in each j or i arr's to the sorted arr\n",
    "    sortedArr += leftHalf[i:]\n",
    "    sortedArr += rightHalf[j:]\n",
    "    return sortedArr\n",
    "\n",
    "mergeSort(array)"
   ]
  },
  {
   "cell_type": "code",
   "execution_count": null,
   "metadata": {},
   "outputs": [],
   "source": []
  }
 ],
 "metadata": {
  "kernelspec": {
   "display_name": "AI_env",
   "language": "python",
   "name": "python3"
  },
  "language_info": {
   "codemirror_mode": {
    "name": "ipython",
    "version": 3
   },
   "file_extension": ".py",
   "mimetype": "text/x-python",
   "name": "python",
   "nbconvert_exporter": "python",
   "pygments_lexer": "ipython3",
   "version": "3.10.13"
  }
 },
 "nbformat": 4,
 "nbformat_minor": 2
}
